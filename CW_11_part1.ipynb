{
 "cells": [
  {
   "cell_type": "code",
   "execution_count": null,
   "id": "b050bfee-4927-41ce-880f-6f45087d2568",
   "metadata": {},
   "outputs": [],
   "source": [
    "import numpy as np\n",
    "import matplotlib.pyplot as plt\n",
    "import torch\n",
    "import tqdm \n",
    "import numpy as np\n",
    "\n",
    "print(\"CUDA:\", torch.cuda.is_available())\n",
    "device = torch.device(\"cuda\" if torch.cuda.is_available() else \"cpu\")"
   ]
  },
  {
   "cell_type": "code",
   "execution_count": null,
   "id": "4eb68b76-ca71-4dfb-ab20-368bafd3edab",
   "metadata": {},
   "outputs": [],
   "source": [
    "def fibre_propagation(U0, wvl, x, z, refractive_index):\n",
    "    nx = U0.shape[0]\n",
    "    k = 2 * torch.pi / wvl\n",
    "\n",
    "    dx = torch.abs(x[1] - x[0])\n",
    "    fx = torch.fft.fftfreq(nx, dx, device=U0.device)\n",
    "\n",
    "    U_out = torch.zeros(nx, z.shape[0], device=U0.device) + 0j\n",
    "    U_out[:, 0] = U0 \n",
    "\n",
    "    absorbing_window = torch.exp(-(x / (40e-6))**20)\n",
    "    dz = z[1] - z[0]\n",
    "    \n",
    "    H = torch.exp(1j * k * dz * torch.sqrt(1 + 0j - (wvl * fx) ** 2))\n",
    "    for i in range(1, z.shape[0]):\n",
    "        U_in = U_out[:, i - 1]\n",
    "        phase_shift = torch.exp(1j * k * dz * refractive_index[:, i - 1]) * absorbing_window\n",
    "        U1 = torch.fft.fftshift(torch.fft.ifft(torch.fft.fft(torch.fft.ifftshift(U_out[:, i - 1] * phase_shift)) * H))\n",
    "        U_out[:, i] = U1\n",
    "        \n",
    "\n",
    "    return U_out"
   ]
  },
  {
   "cell_type": "markdown",
   "id": "2e06d734-07d7-417e-8ebe-c3c724ac0696",
   "metadata": {},
   "source": [
    "# CW_11\n",
    "You are given the following scenario. \n",
    "\n",
    "Create two fibres (diameter around 2µm) and place them next to each other. Propagate the field through the fibres and observe the intensity. Start with a refractive index difference of 0.05.\n",
    "\n",
    "As a initial beam, use `torch.exp(-(x-0e-6)**2 / (2 * 1e-6)**2)`\n",
    "\n",
    "- What happens when the fibres are very close and what happens when they are further away. \n",
    "- Try to vary also the size and location of the incoming beam.\n",
    "- What happens with a different refractive index difference of the core and cladding?"
   ]
  },
  {
   "cell_type": "code",
   "execution_count": null,
   "id": "8cb7ba96-66aa-45b4-b68f-a1c2b2d0a20e",
   "metadata": {},
   "outputs": [],
   "source": [
    "refractive_index = torch.zeros(200, 10_000)\n",
    "wvl = 633e-9\n",
    "\n",
    "x = torch.linspace(-40e-6, 40e-6, 200)\n",
    "z = torch.linspace(0e-6, 10_000e-6, 10_000)\n",
    "\n",
    "width = 2e-6\n",
    "pos1 = 0e-6\n",
    "pos2 = 5e-6\n"
   ]
  },
  {
   "cell_type": "code",
   "execution_count": null,
   "id": "0377422e-38ca-4d7b-9ca7-2ad9853e45c3",
   "metadata": {},
   "outputs": [],
   "source": []
  },
  {
   "cell_type": "code",
   "execution_count": null,
   "id": "3028804d-adcf-41b8-9f63-cbb4c506bbc0",
   "metadata": {},
   "outputs": [],
   "source": []
  },
  {
   "cell_type": "code",
   "execution_count": null,
   "id": "33aa897b-4d6a-49c4-ad15-5be1c0513050",
   "metadata": {},
   "outputs": [],
   "source": []
  },
  {
   "cell_type": "code",
   "execution_count": null,
   "id": "bdf2bfc2-7808-4ba2-bdcb-3cd38952da95",
   "metadata": {},
   "outputs": [],
   "source": []
  },
  {
   "cell_type": "code",
   "execution_count": null,
   "id": "2fa08649-5d8e-4742-8f95-b166eb970ff1",
   "metadata": {},
   "outputs": [],
   "source": []
  },
  {
   "cell_type": "code",
   "execution_count": null,
   "id": "e8963cda-ec40-41df-93f4-9ad24811e721",
   "metadata": {},
   "outputs": [],
   "source": []
  },
  {
   "cell_type": "code",
   "execution_count": null,
   "id": "a3d68643-305b-4023-be36-d817f6aa7cc7",
   "metadata": {},
   "outputs": [],
   "source": []
  },
  {
   "cell_type": "code",
   "execution_count": null,
   "id": "49fc96e7-2fd4-4eb4-bc74-bdd8b9fbf118",
   "metadata": {},
   "outputs": [],
   "source": []
  },
  {
   "cell_type": "code",
   "execution_count": null,
   "id": "df2d5282-617b-47ed-b5ed-054a451e35c9",
   "metadata": {},
   "outputs": [],
   "source": []
  },
  {
   "cell_type": "code",
   "execution_count": null,
   "id": "2626027c-e079-4cd0-b504-b0021a3d7950",
   "metadata": {},
   "outputs": [],
   "source": []
  }
 ],
 "metadata": {
  "kernelspec": {
   "display_name": "Python 3 (ipykernel)",
   "language": "python",
   "name": "python3"
  },
  "language_info": {
   "codemirror_mode": {
    "name": "ipython",
    "version": 3
   },
   "file_extension": ".py",
   "mimetype": "text/x-python",
   "name": "python",
   "nbconvert_exporter": "python",
   "pygments_lexer": "ipython3",
   "version": "3.13.3"
  }
 },
 "nbformat": 4,
 "nbformat_minor": 5
}
