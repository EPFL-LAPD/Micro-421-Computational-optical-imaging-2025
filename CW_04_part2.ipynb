{
 "cells": [
  {
   "cell_type": "markdown",
   "id": "2c064b53-42a4-454d-9222-4ef2f8f2a51c",
   "metadata": {},
   "source": [
    "# CW04 Part 2"
   ]
  },
  {
   "cell_type": "code",
   "execution_count": 457,
   "id": "5b310192-7901-436a-b880-a3a0b8b209c1",
   "metadata": {},
   "outputs": [],
   "source": [
    "import numpy as np\n",
    "import matplotlib.pyplot as plt\n",
    "import imageio.v3 as iio"
   ]
  },
  {
   "cell_type": "code",
   "execution_count": 458,
   "id": "33046aa7-3b75-4ee9-bed4-ac45ae9f4793",
   "metadata": {},
   "outputs": [],
   "source": [
    "def angular_spectrum_propagation_free_space(U0, wvl, dx, z):\n",
    "    \"\"\"\n",
    "    Propagates an optical field using the Bandlimited Angular Spectrum Method over a range of distances.\n",
    "\n",
    "    Parameters:\n",
    "        U0      : 2D numpy array (input wavefield)\n",
    "        wvl     : float (wavelength of light in meters)\n",
    "        d_range : list or numpy array (range of propagation distances in meters)\n",
    "        dx      : float (sampling interval in meters)\n",
    "\n",
    "    Returns:\n",
    "        U1  : the propagated field\n",
    "\n",
    "    Implemented according to: \n",
    "    Matsushima, Kyoji, and Tomoyoshi Shimobaba. \n",
    "    \"Band-limited angular spectrum method for numerical simulation of free-space propagation in far and near fields.\" \n",
    "    Optics express 17.22 (2009): 19662-19673.\n",
    "    \"\"\"\n",
    "\n",
    "    # Get the shape of the original array\n",
    "    original_height, original_width = U0.shape\n",
    "    pad_height, pad_width = original_height // 2, original_width // 2\n",
    "    # Create a new array filled with zeros with the target shape\n",
    "    U0_padded = np.zeros((original_height + 2 * pad_height, original_width + 2 * pad_width), dtype=U0.dtype)\n",
    "    # Place the original array in the center of the new array\n",
    "    U0_padded[pad_height:pad_height + original_height, pad_width:pad_width + original_width] = U0\n",
    "    \n",
    "    # Get array size\n",
    "    ny, nx = U0_padded.shape\n",
    "    # Wave number\n",
    "    k = 2 * np.pi / wvl \n",
    "\n",
    "    # Create spatial frequency coordinates\n",
    "    fx = np.fft.fftfreq(nx, dx)\n",
    "    fy = np.fft.fftfreq(ny, dx)\n",
    "    FX, FY = np.meshgrid(fx, fy)\n",
    "\n",
    "    Delta_uy =  1 / (ny * dx)\n",
    "    Delta_ux =  1 / (nx * dx)\n",
    "    u_limity = 1 / (np.sqrt((2 * Delta_uy * z)**2 + 1) * wvl)\n",
    "    u_limitx = 1 / (np.sqrt((2 * Delta_ux * z)**2 + 1) * wvl)\n",
    "    H_limit = W = ((FY**2 / u_limity**2 + FX**2 * wvl**2) < 1) * ((FX**2 / u_limitx**2 + FY**2 * wvl**2) < 1)\n",
    "    # Kernel\n",
    "    H = np.exp(1j * k * z * np.sqrt(0j + 1 - (wvl * FX) ** 2 - (wvl * FY) ** 2))\n",
    "\n",
    "    # propagate\n",
    "    U1_padded = np.fft.fftshift(np.fft.ifft2(np.fft.fft2(np.fft.ifftshift(U0_padded)) * H * H_limit))\n",
    "    # extract to initial size\n",
    "    U1 = U1_padded[pad_height:pad_height + original_height, pad_width:pad_width + original_width]\n",
    "          \n",
    "    return U1\n"
   ]
  },
  {
   "cell_type": "code",
   "execution_count": 459,
   "id": "0142f36f-771b-4184-b95b-80ffff731ab5",
   "metadata": {},
   "outputs": [],
   "source": [
    "def lens_propagate(U0, wvl, dx, focal_length):\n",
    "    \"\"\"\n",
    "    Propagates an optical field from one focal_length in front of the lens to one focal_length behind the lens\n",
    "    \n",
    "    Parameters:\n",
    "    U0      : 2D numpy array (input wavefield)\n",
    "    wvl     : float (wavelength of light in meters)\n",
    "    dx      :  float (sampling interval in meters)\n",
    "    focal_length : float (focal length of the lens)\n",
    "    \n",
    "    Returns:\n",
    "    U1  : the propagated field\n",
    "    \"\"\"\n",
    "    L_half_x = dx * U0.shape[1] / 2\n",
    "    L_half_y = dx * U0.shape[0] / 2\n",
    "\n",
    "    x = np.linspace(-L_half_x, L_half_x, U0.shape[1], endpoint=False)\n",
    "    y = np.linspace(-L_half_y, L_half_y, U0.shape[0], endpoint=False)\n",
    "\n",
    "    X, Y = np.meshgrid(x,y)\n",
    "\n",
    "    k = 2 * np.pi / wvl\n",
    "    lens = np.exp(-1j * k / 2 / focal_length * (X**2 + Y**2))\n",
    "    \n",
    "    prop = lambda U: angular_spectrum_propagation_free_space(U, wvl, dx, focal_length)\n",
    "\n",
    "    U_final = prop(lens * prop(U0))\n",
    "\n",
    "    return U_final"
   ]
  },
  {
   "cell_type": "markdown",
   "id": "3e4ddfda-eb8c-45f7-b767-36683b9aab6d",
   "metadata": {},
   "source": [
    "# Dark Field Microscope\n",
    "\n",
    "You are given a compex initial field (`np.load(\"cells_example.npy)\"`.\n",
    "\n",
    "The wavelength is `633nm` with a pixel size of `1µm`. \n",
    "\n",
    "Propagate field through a 4F system with focal length of `2mm`.\n",
    "Use a round aperture of radius `300µm` in the Fourier plane.\n",
    "\n",
    "1. Show the final result.\n",
    "\n",
    "2. Show the final result if you include a small hole in the round aperture of radius `10µm`."
   ]
  },
  {
   "cell_type": "markdown",
   "id": "5ddea99a-fbde-43e6-bf2a-567f557af5ac",
   "metadata": {},
   "source": [
    "## 1."
   ]
  },
  {
   "cell_type": "code",
   "execution_count": null,
   "id": "b9ba9553-6bf5-447e-9219-42b6c8416670",
   "metadata": {},
   "outputs": [],
   "source": []
  },
  {
   "cell_type": "code",
   "execution_count": null,
   "id": "d226aab0-6fbf-450e-900d-4561c0ae89be",
   "metadata": {},
   "outputs": [],
   "source": []
  },
  {
   "cell_type": "code",
   "execution_count": null,
   "id": "339a44de-ce06-47c1-96e7-1a7471bc7afb",
   "metadata": {},
   "outputs": [],
   "source": []
  },
  {
   "cell_type": "code",
   "execution_count": null,
   "id": "8f660e9a-a6bc-4982-b919-326f750cd8f0",
   "metadata": {},
   "outputs": [],
   "source": []
  },
  {
   "cell_type": "code",
   "execution_count": null,
   "id": "4888e2cb-f017-4415-b913-dd55abfa978a",
   "metadata": {},
   "outputs": [],
   "source": []
  },
  {
   "cell_type": "code",
   "execution_count": null,
   "id": "f057539c-f1a9-4bfc-a0d9-7b0f49e1b0c4",
   "metadata": {},
   "outputs": [],
   "source": []
  },
  {
   "cell_type": "code",
   "execution_count": null,
   "id": "94b50761-4b72-46be-b7cd-0c8bb46f871d",
   "metadata": {},
   "outputs": [],
   "source": []
  },
  {
   "cell_type": "code",
   "execution_count": null,
   "id": "f4189695-3a47-4a30-9ada-c2eeed18df95",
   "metadata": {},
   "outputs": [],
   "source": []
  }
 ],
 "metadata": {
  "kernelspec": {
   "display_name": "Python 3 (ipykernel)",
   "language": "python",
   "name": "python3"
  },
  "language_info": {
   "codemirror_mode": {
    "name": "ipython",
    "version": 3
   },
   "file_extension": ".py",
   "mimetype": "text/x-python",
   "name": "python",
   "nbconvert_exporter": "python",
   "pygments_lexer": "ipython3",
   "version": "3.13.2"
  }
 },
 "nbformat": 4,
 "nbformat_minor": 5
}
