{
 "cells": [
  {
   "cell_type": "markdown",
   "id": "bef687ef-eaaa-4741-bd9e-0e4275232843",
   "metadata": {},
   "source": [
    "# Import all packages"
   ]
  },
  {
   "cell_type": "code",
   "execution_count": null,
   "id": "6647c36a-b431-4217-b56c-052623f7f46e",
   "metadata": {},
   "outputs": [],
   "source": [
    "import numpy as np\n",
    "import matplotlib.pyplot as plt\n",
    "import torch\n",
    "import tqdm\n",
    "\n",
    "from torch.utils.data import DataLoader, random_split, Dataset\n",
    "import torchvision.transforms as transforms\n",
    "from torchvision import datasets\n",
    "\n",
    "import torch.nn as nn\n",
    "import torch.optim as optim\n",
    "from torch.utils.data import DataLoader, random_split\n",
    "import torchvision.transforms as transforms\n",
    "from torchvision import datasets\n",
    "\n",
    "from torchinfo import summary\n",
    "\n",
    "device = torch.device(\"cuda\" if torch.cuda.is_available() else \"cpu\")"
   ]
  },
  {
   "cell_type": "code",
   "execution_count": null,
   "id": "e8959bc7-4271-4a23-a92c-3f79f8b359ec",
   "metadata": {},
   "outputs": [],
   "source": [
    " torch.cuda.is_available()"
   ]
  },
  {
   "cell_type": "markdown",
   "id": "0de3d59f-899b-4e56-9cca-98e3e1146a63",
   "metadata": {},
   "source": [
    "# Angular Spectrum"
   ]
  },
  {
   "cell_type": "code",
   "execution_count": null,
   "id": "51bba269-10f6-408a-baf2-fe6652b226f2",
   "metadata": {},
   "outputs": [],
   "source": [
    "def angular_spectrum_propagation(U0, wvl, dx, z):\n",
    "    \"\"\"\n",
    "    Propagates an optical field using the Bandlimited Angular Spectrum Method over a range of distances.\n",
    "\n",
    "    Parameters:\n",
    "        U0      : 4D torch tensor (batch, channel, x, y)\n",
    "        wvl     : float (wavelength of light in meters)\n",
    "        dx      : float (sampling interval in meters)\n",
    "        z       : float (propagation distance in meters)\n",
    "\n",
    "    Returns:\n",
    "        U1  : the propagated field (same shape as U0)\n",
    "    \"\"\"\n",
    "    batch, channel, original_height, original_width = U0.shape\n",
    "    pad_height, pad_width = original_height // 2, original_width // 2\n",
    "\n",
    "    z = torch.tensor([z], device=U0.device)\n",
    "    # Pad input field\n",
    "    U0_padded = torch.zeros((batch, channel, original_height + 2 * pad_height, original_width + 2 * pad_width), dtype=U0.dtype, device=U0.device)\n",
    "    U0_padded[:, :, pad_height:pad_height + original_height, pad_width:pad_width + original_width] = U0\n",
    "\n",
    "    ny, nx = U0_padded.shape[-2:]\n",
    "    k = 2 * torch.pi / wvl\n",
    "\n",
    "    # Create spatial frequency coordinates\n",
    "    fx = torch.fft.fftfreq(nx, dx, device=U0.device)\n",
    "    fy = torch.fft.fftfreq(ny, dx, device=U0.device)\n",
    "    FX, FY = torch.meshgrid(fx, fy)  # Ensure FX and FY have last two dimensions\n",
    "    FX = FX.reshape(1,1, FX.shape[0], FX.shape[1])\n",
    "    FY = FY.reshape(1,1, FY.shape[0], FY.shape[1])\n",
    "\n",
    "    Delta_uy = 1 / (ny * dx)\n",
    "    Delta_ux = 1 / (nx * dx)\n",
    "    u_limity = 1 / (torch.sqrt((2 * Delta_uy * z) ** 2 + 1) * wvl)\n",
    "    u_limitx = 1 / (torch.sqrt((2 * Delta_ux * z) ** 2 + 1) * wvl)\n",
    "    H_limit = ((FY ** 2 / u_limity ** 2 + FX ** 2 * wvl ** 2) < 1) * ((FX ** 2 / u_limitx ** 2 + FY ** 2 * wvl ** 2) < 1)\n",
    "\n",
    "    # Kernel\n",
    "    H = torch.exp(1j * k * z * torch.sqrt(1 - (wvl * FX) ** 2 - (wvl * FY) ** 2))\n",
    "\n",
    "    # Propagate\n",
    "    U1_padded = torch.fft.fftshift(torch.fft.ifft2(torch.fft.fft2(torch.fft.ifftshift(U0_padded, dim=(-2, -1))) * H * H_limit), dim=(-2, -1))\n",
    "\n",
    "    # Extract to initial size\n",
    "    U1 = U1_padded[:, :, pad_height:pad_height + original_height, pad_width:pad_width + original_width]\n",
    "\n",
    "    return U1"
   ]
  },
  {
   "cell_type": "markdown",
   "id": "c1d8d287-4940-4795-b2d6-28e81a54825a",
   "metadata": {},
   "source": [
    "# Load pretrained model and define U-Net architecture\n",
    "This model was trained on 3s and 7s with the same defocus distance."
   ]
  },
  {
   "cell_type": "code",
   "execution_count": null,
   "id": "8a6e5e48-96e5-4fb2-81c2-fe38f21d1640",
   "metadata": {},
   "outputs": [],
   "source": [
    "class UNet(nn.Module):\n",
    "    def __init__(self):\n",
    "        super(UNet, self).__init__()\n",
    "\n",
    "        self.encoder = nn.Sequential(\n",
    "            nn.Conv2d(1, 64, kernel_size=3, padding=1),\n",
    "            nn.BatchNorm2d(64),  # BatchNorm after Conv2d\n",
    "            nn.ReLU(inplace=True),\n",
    "            nn.Conv2d(64, 128, kernel_size=3, padding=1),\n",
    "            nn.BatchNorm2d(128),  # BatchNorm after Conv2d\n",
    "            nn.ReLU(inplace=True),\n",
    "            nn.MaxPool2d(2)\n",
    "        )\n",
    "\n",
    "        self.middle = nn.Sequential(\n",
    "            nn.Conv2d(128, 256, kernel_size=3, padding=1),\n",
    "            nn.BatchNorm2d(256),  # BatchNorm after Conv2d\n",
    "            nn.ReLU(inplace=True),\n",
    "            nn.Conv2d(256, 128, kernel_size=3, padding=1),\n",
    "            nn.BatchNorm2d(128),  # BatchNorm after Conv2d\n",
    "            nn.ReLU(inplace=True)\n",
    "        )\n",
    "\n",
    "        self.decoder = nn.Sequential(\n",
    "            nn.Upsample(scale_factor=2, mode='bilinear', align_corners=True),\n",
    "            nn.Conv2d(128, 64, kernel_size=3, padding=1),\n",
    "            nn.BatchNorm2d(64),  # BatchNorm after Conv2d\n",
    "            nn.ReLU(inplace=True),\n",
    "            nn.Conv2d(64, 1, kernel_size=3, padding=1),\n",
    "            nn.BatchNorm2d(1),  # BatchNorm after Conv2d\n",
    "            nn.ReLU(inplace=True)\n",
    "        )\n",
    "\n",
    "    def forward(self, x):\n",
    "        x = self.encoder(x)\n",
    "        x = self.middle(x)\n",
    "        x = self.decoder(x)\n",
    "        return x\n",
    "\n",
    "model = torch.load('U-net_defocus.pt', weights_only=False, map_location=torch.device(device))\n",
    "model.eval()  # Switch to evaluation mode (important for inference)\n",
    "model.to(device)"
   ]
  },
  {
   "cell_type": "markdown",
   "id": "884049f0-efc8-4ab3-9118-57666fdf19dc",
   "metadata": {},
   "source": [
    "# Evaluate Model\n",
    "We can evaluate the model but be sure it's normalized to [0,1]. So peak intensity should be 1."
   ]
  },
  {
   "cell_type": "code",
   "execution_count": null,
   "id": "89ee5a68-9b5f-4fff-9e9d-033fe66ed6d9",
   "metadata": {},
   "outputs": [],
   "source": [
    "def evaluate(model, img):\n",
    "    \"\"\"\n",
    "    Evaluate a single `image` with torch array size (28, 28).\n",
    "    Returns the model output as a single torch array with `(28, 28)`\n",
    "    \"\"\"\n",
    "    output = model(img.reshape(1,1,28, 28)).reshape(28, 28)\n",
    "\n",
    "    return output\n",
    "\n",
    "def plot_images(inputs, outputs, targets):\n",
    "    # Create a figure with 1 row and 3 columns\n",
    "    fig, ax = plt.subplots(1, 3, figsize=(15, 5))\n",
    "\n",
    "    # Plot input image\n",
    "    ax[0].imshow(inputs.reshape(28, 28).detach().cpu().numpy())\n",
    "    ax[0].set_title(\"Input Image\")\n",
    "    ax[0].axis('off')\n",
    "\n",
    "    # Plot output image\n",
    "    ax[1].imshow(outputs.reshape(28, 28).detach().cpu().numpy())\n",
    "    ax[1].set_title(\"Network Output Image\")\n",
    "    ax[1].axis('off')\n",
    "\n",
    "    # Plot target image\n",
    "    ax[2].imshow(targets.reshape(28, 28).detach().cpu().numpy())\n",
    "    ax[2].set_title(\"Target Image\")\n",
    "    ax[2].axis('off')\n",
    "\n",
    "    plt.show()"
   ]
  },
  {
   "cell_type": "markdown",
   "id": "2513d07a-ff55-43b6-a894-67f0569772c0",
   "metadata": {},
   "source": [
    "# Load dataset and prepare\n",
    "Dataset is a tensor where the first dimension is the different images."
   ]
  },
  {
   "cell_type": "code",
   "execution_count": null,
   "id": "ce9ecbc3-c51f-4ed7-8513-441c65b374cd",
   "metadata": {},
   "outputs": [],
   "source": [
    "# Load MNIST dataset\n",
    "transform = transforms.Compose([\n",
    "    transforms.ToTensor(),\n",
    "])\n",
    "dataset = datasets.MNIST(root=\"./data\", train=True, transform=transform, download=True)\n",
    "\n",
    "only_number = 5\n",
    "dataset.data = dataset.data[(dataset.targets == only_number)]\n",
    "dataset.targets = dataset.targets[(dataset.targets == only_number)]"
   ]
  },
  {
   "cell_type": "code",
   "execution_count": null,
   "id": "d37fd65b-ead2-4374-8738-008e9e50577b",
   "metadata": {},
   "outputs": [],
   "source": [
    "dataset.data.shape"
   ]
  },
  {
   "cell_type": "code",
   "execution_count": null,
   "id": "310bef21-8708-4454-9e28-9b6cb0c1b543",
   "metadata": {},
   "outputs": [],
   "source": [
    "index = 1000\n",
    "\n",
    "image = torch.tensor(dataset.data[index], dtype=torch.float, device=device) / 255\n",
    "image_prop = torch.abs(angular_spectrum_propagation(image.reshape(1,1,28,28),633e-9, 3e-6, 300e-6))**2\n",
    "output = evaluate(model, image_prop)\n",
    "\n",
    "\n",
    "plot_images(image_prop, output, image)"
   ]
  },
  {
   "cell_type": "markdown",
   "id": "c046b279-252f-4cfe-9c3e-a68fb60157ac",
   "metadata": {},
   "source": [
    "# Task\n",
    "\n",
    "- Try to evaluate the network with differents digits (except 3s or 7s)?\n",
    "- Can you compare the performance of 3s vs 5s under the SSIM metric?\n",
    "- What happens if you do not use simple MNIST images but instead something more realistic (Fashion MNIST or any image of your choice)?"
   ]
  },
  {
   "cell_type": "code",
   "execution_count": null,
   "id": "645967c5-a9cd-4129-a10c-6d4721ac8d17",
   "metadata": {},
   "outputs": [],
   "source": []
  }
 ],
 "metadata": {
  "kernelspec": {
   "display_name": "Python 3 (ipykernel)",
   "language": "python",
   "name": "python3"
  },
  "language_info": {
   "codemirror_mode": {
    "name": "ipython",
    "version": 3
   },
   "file_extension": ".py",
   "mimetype": "text/x-python",
   "name": "python",
   "nbconvert_exporter": "python",
   "pygments_lexer": "ipython3",
   "version": "3.13.2"
  }
 },
 "nbformat": 4,
 "nbformat_minor": 5
}
