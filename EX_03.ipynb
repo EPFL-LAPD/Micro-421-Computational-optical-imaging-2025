{
 "cells": [
  {
   "cell_type": "markdown",
   "metadata": {},
   "source": [
    "# EX_03"
   ]
  },
  {
   "cell_type": "code",
   "execution_count": 2,
   "metadata": {
    "colab": {
     "base_uri": "https://localhost:8080/"
    },
    "id": "SeC5LfpDygcf",
    "outputId": "6c170945-bb32-423f-ae69-f9191028f62c",
    "scrolled": true
   },
   "outputs": [
    {
     "name": "stdout",
     "output_type": "stream",
     "text": [
      "Using device: cpu\n"
     ]
    }
   ],
   "source": [
    "import torch\n",
    "import torch.nn.functional as F\n",
    "import matplotlib.pyplot as plt\n",
    "import time\n",
    "import numpy as np\n",
    "import math\n",
    "import torch.optim as optim\n",
    "import torch.nn as nn\n",
    "\n",
    "# --- Device Setup ---\n",
    "device = torch.device(\"cuda\" if torch.cuda.is_available() else \"cpu\")\n",
    "print(f\"Using device: {device}\")\n",
    "\n",
    "# --- Physical and Simulation Parameters ---\n",
    "Nx = Ny = 256  # Grid points\n",
    "lambda0_scalar = 532e-9  # m, wavelength\n",
    "Lx_phys = Ly_phys = 0.6e-3  # m, physical size of computational window\n",
    "\n",
    "# Propagation distances\n",
    "Lz_segment = 5 * Lx_phys  # Distance P1-P2, and P2-P3\n",
    "L_total = 2 * Lz_segment\n",
    "\n",
    "\n",
    "# --- Helper Functions ---\n",
    "def create_grids(N, phys_L, device_val, dtype_val=torch.float32):\n",
    "    \"\"\"Creates 1D and 2D coordinate and frequency grids.\"\"\"\n",
    "    dx = phys_L / N\n",
    "    # Spatial coordinates\n",
    "    x_1d = torch.linspace(-phys_L / 2, phys_L / 2 - dx, N, device=device_val, dtype=dtype_val)\n",
    "    X, Y = torch.meshgrid(x_1d, x_1d, indexing='ij')\n",
    "\n",
    "    # Spatial frequencies (for torch.fft.fft2 output order: DC at [0,0])\n",
    "    kx_1d = 2 * math.pi * torch.fft.fftfreq(N, d=dx, device=device_val, dtype=dtype_val)\n",
    "    Ky, Kx = torch.meshgrid(kx_1d, kx_1d, indexing='ij') # Note: meshgrid's first arg varies slowest (rows)\n",
    "                                                      # For (ky, kx) to match image (row, col) -> (y, x)\n",
    "                                                      # Ky corresponds to y (rows), Kx to x (cols)\n",
    "    return X, Y, Kx, Ky, dx\n",
    "\n",
    "\n",
    "# --- Angular Spectrum Propagator ---\n",
    "def propagate_angular_spectrum(field_xy_in, Lz_prop, lambda0_s, Lx_s, Ly_s, backward=False):\n",
    "    \"\"\"\n",
    "    Propagates a 2D complex field using the angular spectrum method.\n",
    "    Assumes field_xy_in is complex.\n",
    "    For backward propagation, set backward=True.\n",
    "    \"\"\"\n",
    "    N_y, N_x = field_xy_in.shape\n",
    "    current_device = field_xy_in.device\n",
    "    dtype_real = torch.float32 # Base for physical params\n",
    "    dtype_complex = field_xy_in.dtype\n",
    "\n",
    "\n",
    "    lambda0 = torch.tensor(lambda0_s, device=current_device, dtype=dtype_real)\n",
    "    k0 = 2 * math.pi / lambda0\n",
    "\n",
    "    _, _, Kx_grid, Ky_grid, _ = create_grids(N_x, Lx_s, current_device, dtype_val=dtype_real)\n",
    "    # Ky_grid, Kx_grid from create_grids are for (Ny, Nx) if Ly, Lx used for Ny, Nx respectively\n",
    "    # If Nx=Ny and Lx=Ly, then Kx_grid and Ky_grid from create_grids(Nx, Lx_s, ...) is fine.\n",
    "\n",
    "    Kx2_plus_Ky2 = Kx_grid**2 + Ky_grid**2\n",
    "\n",
    "    # kz component\n",
    "    # sqrt_arg can be negative for evanescent waves\n",
    "    sqrt_arg = k0**2 - Kx2_plus_Ky2\n",
    "    kz = torch.sqrt(torch.complex(torch.relu(sqrt_arg), torch.abs(torch.minimum(sqrt_arg, torch.tensor(0.0, device=current_device)))))\n",
    "    # For evanescent waves (sqrt_arg < 0): kz becomes purely imaginary: j * sqrt(abs(sqrt_arg))\n",
    "    # This leads to exp(- Lz * sqrt(Kx2+Ky2-k0^2)), which is decay.\n",
    "\n",
    "    # Propagator\n",
    "    if backward:\n",
    "        propagator_k_space = torch.exp(-1j * kz.to(dtype_complex) * Lz_prop) # H* or H(-Lz)\n",
    "    else:\n",
    "        propagator_k_space = torch.exp(1j * kz.to(dtype_complex) * Lz_prop)  # H\n",
    "\n",
    "    # Perform propagation\n",
    "    field_k_space = torch.fft.fft2(field_xy_in)\n",
    "    propagated_k_space = field_k_space * propagator_k_space\n",
    "    propagated_field_xy = torch.fft.ifft2(propagated_k_space)\n",
    "\n",
    "    return propagated_field_xy"
   ]
  },
  {
   "cell_type": "code",
   "execution_count": 3,
   "metadata": {
    "scrolled": true
   },
   "outputs": [
    {
     "data": {
      "text/plain": [
       "tensor([[ 0.0973-0.0071j,  0.0669+0.0203j, -0.0002+0.0417j,  ...,\n",
       "          0.0089-0.0966j,  0.0399-0.0647j,  0.0853-0.0148j],\n",
       "        [ 0.0375+0.0019j,  0.0487+0.0084j,  0.0418-0.0005j,  ...,\n",
       "         -0.0169-0.0251j,  0.0178-0.0321j,  0.0420-0.0195j],\n",
       "        [-0.0757+0.0100j, -0.0430-0.0421j,  0.0266-0.0566j,  ...,\n",
       "         -0.0104+0.0761j, -0.0326+0.0571j, -0.0645+0.0214j],\n",
       "        ...,\n",
       "        [-0.0854+0.0472j, -0.0592+0.0141j, -0.0215-0.0449j,  ...,\n",
       "          0.0144+0.0582j,  0.0064+0.0397j, -0.0575+0.0273j],\n",
       "        [-0.0555+0.0024j, -0.0331-0.0092j, -0.0079-0.0170j,  ...,\n",
       "         -0.0112+0.0693j, -0.0296+0.0453j, -0.0693+0.0149j],\n",
       "        [ 0.0365-0.0223j,  0.0172-0.0075j, -0.0131+0.0394j,  ...,\n",
       "          0.0058-0.0272j, -0.0037-0.0068j,  0.0089+0.0046j]])"
      ]
     },
     "execution_count": 3,
     "metadata": {},
     "output_type": "execute_result"
    }
   ],
   "source": [
    "torch.load(\"t_mid_A.pt\")\n",
    "torch.load(\"t_mid_B.pt\")\n",
    "torch.load(\"U_out_A.pt\")\n",
    "torch.load(\"U_out_B.pt\")"
   ]
  },
  {
   "cell_type": "code",
   "execution_count": null,
   "metadata": {},
   "outputs": [],
   "source": []
  },
  {
   "cell_type": "code",
   "execution_count": null,
   "metadata": {},
   "outputs": [],
   "source": []
  },
  {
   "cell_type": "code",
   "execution_count": null,
   "metadata": {},
   "outputs": [],
   "source": []
  },
  {
   "cell_type": "code",
   "execution_count": null,
   "metadata": {},
   "outputs": [],
   "source": []
  }
 ],
 "metadata": {
  "colab": {
   "provenance": []
  },
  "kernelspec": {
   "display_name": "Python 3 (ipykernel)",
   "language": "python",
   "name": "python3"
  },
  "language_info": {
   "codemirror_mode": {
    "name": "ipython",
    "version": 3
   },
   "file_extension": ".py",
   "mimetype": "text/x-python",
   "name": "python",
   "nbconvert_exporter": "python",
   "pygments_lexer": "ipython3",
   "version": "3.13.3"
  }
 },
 "nbformat": 4,
 "nbformat_minor": 4
}
