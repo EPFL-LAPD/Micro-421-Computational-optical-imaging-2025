{
 "cells": [
  {
   "cell_type": "code",
   "execution_count": 5,
   "id": "df546ad1-6f08-477a-b194-bbb0d55e59ee",
   "metadata": {},
   "outputs": [],
   "source": [
    "import numpy as np\n",
    "import matplotlib.pyplot as plt"
   ]
  },
  {
   "cell_type": "code",
   "execution_count": 6,
   "id": "75254079-108a-4c29-9f7a-d4d9c6ee62b1",
   "metadata": {},
   "outputs": [],
   "source": [
    "def angular_spectrum_propagation_free_space(U0, wvl, dx, z):\n",
    "    \"\"\"\n",
    "    Propagates an optical field using the Bandlimited Angular Spectrum Method over a range of distances.\n",
    "\n",
    "    Parameters:\n",
    "        U0      : 2D numpy array (input wavefield)\n",
    "        wvl     : float (wavelength of light in meters)\n",
    "        d_range : list or numpy array (range of propagation distances in meters)\n",
    "        dx      : float (sampling interval in meters)\n",
    "\n",
    "    Returns:\n",
    "        U1  : the propagated field\n",
    "\n",
    "    Implemented according to: \n",
    "    Matsushima, Kyoji, and Tomoyoshi Shimobaba. \n",
    "    \"Band-limited angular spectrum method for numerical simulation of free-space propagation in far and near fields.\" \n",
    "    Optics express 17.22 (2009): 19662-19673.\n",
    "    \"\"\"\n",
    "\n",
    "    # Get the shape of the original array\n",
    "    original_height, original_width = U0.shape\n",
    "    pad_height, pad_width = original_height // 2, original_width // 2\n",
    "    # Create a new array filled with zeros with the target shape\n",
    "    U0_padded = np.zeros((original_height + 2 * pad_height, original_width + 2 * pad_width), dtype=U0.dtype)\n",
    "    # Place the original array in the center of the new array\n",
    "    U0_padded[pad_height:pad_height + original_height, pad_width:pad_width + original_width] = U0\n",
    "    \n",
    "    # Get array size\n",
    "    ny, nx = U0_padded.shape\n",
    "    # Wave number\n",
    "    k = 2 * np.pi / wvl \n",
    "\n",
    "    # Create spatial frequency coordinates\n",
    "    fx = np.fft.fftfreq(nx, dx)\n",
    "    fy = np.fft.fftfreq(ny, dx)\n",
    "    FX, FY = np.meshgrid(fx, fy)\n",
    "\n",
    "    Delta_uy =  1 / (ny * dx)\n",
    "    Delta_ux =  1 / (nx * dx)\n",
    "    u_limity = 1 / (np.sqrt((2 * Delta_uy * z)**2 + 1) * wvl)\n",
    "    u_limitx = 1 / (np.sqrt((2 * Delta_ux * z)**2 + 1) * wvl)\n",
    "    H_limit = W = ((FY**2 / u_limity**2 + FX**2 * wvl**2) < 1) * ((FX**2 / u_limitx**2 + FY**2 * wvl**2) < 1)\n",
    "    # Kernel\n",
    "    H = np.exp(1j * k * z * np.sqrt(0j + 1 - (wvl * FX) ** 2 - (wvl * FY) ** 2))\n",
    "\n",
    "    # propagate\n",
    "    U1_padded = np.fft.fftshift(np.fft.ifft2(np.fft.fft2(np.fft.ifftshift(U0_padded)) * H * H_limit))\n",
    "    # extract to initial size\n",
    "    U1 = U1_padded[pad_height:pad_height + original_height, pad_width:pad_width + original_width]\n",
    "          \n",
    "    return U1\n"
   ]
  },
  {
   "cell_type": "markdown",
   "id": "c6f3c7da-ad7c-40d2-9a93-c7687ae17628",
   "metadata": {},
   "source": [
    "# Speckle creation\n",
    "\n",
    "Create a field with a random phase with `N=300` data points and a `dx=1000e-9`. Propagate for different distances from `100µm` to `10mm`.\n",
    "Also change the wavelength from `400nm` to `800nm`.\n",
    "What do you observe?\n",
    "\n",
    "Can you quanitify the size of the speckles depending on the physical parameters?"
   ]
  },
  {
   "cell_type": "code",
   "execution_count": null,
   "id": "34f1185b-60bf-4b76-809a-1ee79b85e961",
   "metadata": {},
   "outputs": [],
   "source": []
  },
  {
   "cell_type": "code",
   "execution_count": null,
   "id": "c38196c4-d241-4063-8cd2-72d5ce62cd96",
   "metadata": {},
   "outputs": [],
   "source": []
  },
  {
   "cell_type": "code",
   "execution_count": null,
   "id": "873484f2-a75e-4c84-b771-27826cd107b3",
   "metadata": {},
   "outputs": [],
   "source": []
  }
 ],
 "metadata": {
  "kernelspec": {
   "display_name": "Python 3 (ipykernel)",
   "language": "python",
   "name": "python3"
  },
  "language_info": {
   "codemirror_mode": {
    "name": "ipython",
    "version": 3
   },
   "file_extension": ".py",
   "mimetype": "text/x-python",
   "name": "python",
   "nbconvert_exporter": "python",
   "pygments_lexer": "ipython3",
   "version": "3.13.2"
  }
 },
 "nbformat": 4,
 "nbformat_minor": 5
}
