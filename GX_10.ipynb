{
 "cells": [
  {
   "cell_type": "code",
   "execution_count": null,
   "id": "7be0fe72-1651-4254-89d4-792b76450eba",
   "metadata": {},
   "outputs": [],
   "source": [
    "import numpy as np\n",
    "import matplotlib.pyplot as plt\n",
    "import torch\n",
    "import tqdm\n",
    "\n",
    "device = torch.device(\"cpu\" if torch.cuda.is_available() else \"cpu\")\n",
    "#torch.cuda.is_available()"
   ]
  },
  {
   "cell_type": "code",
   "execution_count": null,
   "id": "09095f5b-e811-465b-b677-aedd78c08513",
   "metadata": {},
   "outputs": [],
   "source": [
    "def angular_spectrum_propagation(U0, wvl, dx, z):\n",
    "    \"\"\"\n",
    "    Propagates an optical field using the Bandlimited Angular Spectrum Method over a range of distances.\n",
    "\n",
    "    Parameters:\n",
    "        U0      : 4D torch tensor (batch, channel, x, y)\n",
    "        wvl     : float (wavelength of light in meters)\n",
    "        dx      : float (sampling interval in meters)\n",
    "        z       : float (propagation distance in meters)\n",
    "\n",
    "    Returns:\n",
    "        U1  : the propagated field (same shape as U0)\n",
    "    \"\"\"\n",
    "    batch, channel, original_height, original_width = U0.shape\n",
    "    pad_height, pad_width = original_height // 2, original_width // 2\n",
    "\n",
    "    z = torch.tensor([z], device=U0.device)\n",
    "    # Pad input field\n",
    "    U0_padded = torch.zeros((batch, channel, original_height + 2 * pad_height, original_width + 2 * pad_width), dtype=U0.dtype, device=U0.device)\n",
    "    U0_padded[:, :, pad_height:pad_height + original_height, pad_width:pad_width + original_width] = U0\n",
    "\n",
    "    ny, nx = U0_padded.shape[-2:]\n",
    "    k = 2 * torch.pi / wvl\n",
    "\n",
    "    # Create spatial frequency coordinates\n",
    "    fx = torch.fft.fftfreq(nx, dx, device=U0.device)\n",
    "    fy = torch.fft.fftfreq(ny, dx, device=U0.device)\n",
    "    FX, FY = torch.meshgrid(fx, fy)  # Ensure FX and FY have last two dimensions\n",
    "    FX = FX.reshape(1,1, FX.shape[0], FX.shape[1])\n",
    "    FY = FY.reshape(1,1, FY.shape[0], FY.shape[1])\n",
    "\n",
    "    Delta_uy = 1 / (ny * dx)\n",
    "    Delta_ux = 1 / (nx * dx)\n",
    "    u_limity = 1 / (torch.sqrt((2 * Delta_uy * torch.abs(z)) ** 2 + 1) * wvl)\n",
    "    u_limitx = 1 / (torch.sqrt((2 * Delta_ux * torch.abs(z)) ** 2 + 1) * wvl)\n",
    "    H_limit = ((FY ** 2 / u_limity ** 2 + FX ** 2 * wvl ** 2) < 1) * ((FX ** 2 / u_limitx ** 2 + FY ** 2 * wvl ** 2) < 1)\n",
    "\n",
    "    # Kernel\n",
    "    H = torch.exp(1j * k * z * torch.sqrt(0j + 1 - (wvl * FX) ** 2 - (wvl * FY) ** 2))\n",
    "\n",
    "    # Propagate\n",
    "    U1_padded = torch.fft.fftshift(torch.fft.ifft2(torch.fft.fft2(torch.fft.ifftshift(U0_padded, dim=(-2, -1))) * H * H_limit), dim=(-2, -1))\n",
    "\n",
    "    # Extract to initial size\n",
    "    U1 = U1_padded[:, :, pad_height:pad_height + original_height, pad_width:pad_width + original_width]\n",
    "\n",
    "    return U1"
   ]
  },
  {
   "cell_type": "markdown",
   "id": "0cb138d4-956d-4fad-a876-1a039ed9b761",
   "metadata": {},
   "source": [
    "# Off-Axis Hologram Task\n",
    "\n",
    "In this part you are going to explore off-axis holography. Propagate the given field by a distance of `z`. Interfere\n",
    "the field with a plane wave which is tilted by 7° in both x and y.\n",
    "\n",
    "\n",
    "As a task:\n",
    "1) Find the center peak of the recorded intensity in Fourier space. Also, described a way how to calculate the position of the center peak\n",
    "2) Reconstruct a nice image with a tile size of 100x100. Do not zero pad this extracted region. But instead work with the image of size 100x100. How do you need to change the pixel size `dx` for the wave propagation?\n",
    "3) Plot the SSIM norm for the amplitude of the reconstructed hologram. Plot the SSIM over different tile sizes. Explain the shape of the curve. To compare it with the ground truth, you need to downsample the initial amplitude of the field with the following\n",
    "\n",
    "\n",
    "```\n",
    "downsampled = torch.nn.functional.interpolate(torch.abs(field).reshape(1,1, 1000, 1000),\\\n",
    "                                size=(backpropagated.shape[0], backpropagated.shape[1]), mode=\"bilinear\")\\\n",
    "             .reshape(backpropagated.shape[0], backpropagated.shape[1])\n",
    "```"
   ]
  },
  {
   "cell_type": "code",
   "execution_count": null,
   "id": "6a0a7a80-e7d7-4577-b57e-3a4c0395f94e",
   "metadata": {},
   "outputs": [],
   "source": [
    "x = torch.linspace(-500e-6, 500e-6, 1001)[:-1].to(device)\n",
    "y = x.to(device)\n",
    "X, Y = torch.meshgrid(x, y, indexing=\"ij\")\n",
    "X = X.to(device)\n",
    "Y = Y.to(device)\n",
    "dx = x[1] - x[0]"
   ]
  },
  {
   "cell_type": "code",
   "execution_count": null,
   "id": "52d0db2e-1e36-4500-9ea6-d86ca63c35ae",
   "metadata": {},
   "outputs": [],
   "source": [
    "field = torch.tensor(np.load(\"field_1000.npy\").reshape(1,1,1000,1000), device=device)\n",
    "\n",
    "wvl = 633e-9\n",
    "z = 1e-3\n",
    "\n",
    "theta_x = 7 * np.pi / 180 \n",
    "theta_y = 7 * np.pi / 180 \n",
    "kx = (2 * np.pi / wvl) * np.sin(theta_x)\n",
    "ky = (2 * np.pi / wvl) * np.sin(theta_y)\n",
    "\n",
    "# use those functions for the Fourier transform\n",
    "ft = lambda x: torch.fft.fftshift(torch.fft.fft2(torch.fft.ifftshift(x)))\n",
    "ift = lambda x: torch.fft.fftshift(torch.fft.ifft2(torch.fft.ifftshift(x)))"
   ]
  },
  {
   "cell_type": "code",
   "execution_count": null,
   "id": "968d2180-b44e-462a-a545-445ebd2e900e",
   "metadata": {},
   "outputs": [],
   "source": []
  }
 ],
 "metadata": {
  "kernelspec": {
   "display_name": "Python 3 (ipykernel)",
   "language": "python",
   "name": "python3"
  },
  "language_info": {
   "codemirror_mode": {
    "name": "ipython",
    "version": 3
   },
   "file_extension": ".py",
   "mimetype": "text/x-python",
   "name": "python",
   "nbconvert_exporter": "python",
   "pygments_lexer": "ipython3",
   "version": "3.13.3"
  }
 },
 "nbformat": 4,
 "nbformat_minor": 5
}
