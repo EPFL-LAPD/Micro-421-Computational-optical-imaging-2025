{
 "cells": [
  {
   "cell_type": "markdown",
   "id": "e9986d84-4707-41bc-af60-8125b9d6a46e",
   "metadata": {},
   "source": [
    "# EX_01"
   ]
  },
  {
   "cell_type": "code",
   "execution_count": 11,
   "id": "bfcb9d2b-f6db-49ee-860e-91a434071b21",
   "metadata": {},
   "outputs": [
    {
     "name": "stdout",
     "output_type": "stream",
     "text": [
      "CUDA: False\n"
     ]
    }
   ],
   "source": [
    "import numpy as np\n",
    "import matplotlib.pyplot as plt\n",
    "import torch\n",
    "import tqdm \n",
    "import numpy as np\n",
    "\n",
    "print(\"CUDA:\", torch.cuda.is_available())\n",
    "device = torch.device(\"cuda\" if torch.cuda.is_available() else \"cpu\")"
   ]
  },
  {
   "cell_type": "code",
   "execution_count": 10,
   "id": "7a302615-d3df-4f04-aecf-6a123f935ad7",
   "metadata": {},
   "outputs": [
    {
     "data": {
      "text/plain": [
       "<matplotlib.image.AxesImage at 0x7f7291e86e90>"
      ]
     },
     "execution_count": 10,
     "metadata": {},
     "output_type": "execute_result"
    },
    {
     "data": {
      "image/png": "[encoded data removed]",
      "text/plain": [
       "<Figure size 640x480 with 1 Axes>"
      ]
     },
     "metadata": {},
     "output_type": "display_data"
    }
   ],
   "source": [
    "L = 100e-6\n",
    "N = 256\n",
    "Lz = 1000e-6\n",
    "Nz = 1000\n",
    "\n",
    "x = torch.linspace(-L/2, L/2, N)\n",
    "z = torch.linspace(0, Lz, Nz)\n",
    "wvl = 633e-9\n",
    "k = torch.pi * 2 / wvl\n",
    "\n",
    "\n",
    "X, Z = torch.meshgrid(x, z)\n",
    "\n",
    "K = 5e-6\n",
    "refractive_index = 0.05 * torch.cos(2 * torch.pi * X / K)\n",
    "\n",
    "plt.imshow(refractive_index)"
   ]
  },
  {
   "cell_type": "code",
   "execution_count": null,
   "id": "a3a25266-83fc-4af6-a989-1e644ee8e488",
   "metadata": {},
   "outputs": [],
   "source": []
  },
  {
   "cell_type": "code",
   "execution_count": null,
   "id": "7ef932a1-0d32-4cb1-988c-3712af52ab4e",
   "metadata": {},
   "outputs": [],
   "source": []
  },
  {
   "cell_type": "code",
   "execution_count": null,
   "id": "93c374bf-04b4-4d70-a503-6f79546d71be",
   "metadata": {},
   "outputs": [],
   "source": []
  },
  {
   "cell_type": "code",
   "execution_count": null,
   "id": "8b6896b4-ada6-4104-80ee-8ded25b884fb",
   "metadata": {},
   "outputs": [],
   "source": []
  },
  {
   "cell_type": "code",
   "execution_count": null,
   "id": "3732b420-8c92-474b-9844-30dcd02170be",
   "metadata": {},
   "outputs": [],
   "source": []
  },
  {
   "cell_type": "code",
   "execution_count": null,
   "id": "c3b68cf0-233d-4f13-aa4f-d576d2c32049",
   "metadata": {},
   "outputs": [],
   "source": []
  },
  {
   "cell_type": "code",
   "execution_count": null,
   "id": "1c8ce37c-fd6d-4aee-821b-07a28d2de044",
   "metadata": {},
   "outputs": [],
   "source": []
  }
 ],
 "metadata": {
  "kernelspec": {
   "display_name": "Python 3 (ipykernel)",
   "language": "python",
   "name": "python3"
  },
  "language_info": {
   "codemirror_mode": {
    "name": "ipython",
    "version": 3
   },
   "file_extension": ".py",
   "mimetype": "text/x-python",
   "name": "python",
   "nbconvert_exporter": "python",
   "pygments_lexer": "ipython3",
   "version": "3.13.3"
  }
 },
 "nbformat": 4,
 "nbformat_minor": 5
}
