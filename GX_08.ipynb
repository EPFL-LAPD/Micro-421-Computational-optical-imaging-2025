{
 "cells": [
  {
   "cell_type": "code",
   "execution_count": null,
   "id": "813a80cf-8174-4dce-94fb-c3a30b7c1522",
   "metadata": {},
   "outputs": [],
   "source": [
    "import numpy as np\n",
    "import matplotlib.pyplot as plt\n",
    "import torch\n",
    "import tqdm \n",
    "import numpy as np\n",
    "from torchmetrics.image import StructuralSimilarityIndexMeasure\n",
    "\n",
    "print(\"CUDA:\", torch.cuda.is_available())\n",
    "device = torch.device(\"cuda\" if torch.cuda.is_available() else \"cpu\")"
   ]
  },
  {
   "cell_type": "code",
   "execution_count": null,
   "id": "127f8127-45fc-46a4-8718-7bff71ddc1b5",
   "metadata": {},
   "outputs": [],
   "source": [
    "def angular_spectrum_propagation(U0, wvl, dx, z):\n",
    "    \"\"\"\n",
    "    Propagates an optical field using the Bandlimited Angular Spectrum Method over a range of distances.\n",
    "\n",
    "    Parameters:\n",
    "        U0      : 4D torch tensor (batch, channel, x, y)\n",
    "        wvl     : float (wavelength of light in meters)\n",
    "        dx      : float (sampling interval in meters)\n",
    "        z       : float (propagation distance in meters)\n",
    "\n",
    "    Returns:\n",
    "        U1  : the propagated field (same shape as U0)\n",
    "    \"\"\"\n",
    "    batch, channel, original_height, original_width = U0.shape\n",
    "    pad_height, pad_width = original_height // 2, original_width // 2\n",
    "\n",
    "    z = torch.tensor([z], device=U0.device)\n",
    "    # Pad input field\n",
    "    U0_padded = torch.zeros((batch, channel, original_height + 2 * pad_height, original_width + 2 * pad_width), dtype=U0.dtype, device=U0.device)\n",
    "    U0_padded[:, :, pad_height:pad_height + original_height, pad_width:pad_width + original_width] = U0\n",
    "\n",
    "    ny, nx = U0_padded.shape[-2:]\n",
    "    k = 2 * torch.pi / wvl\n",
    "\n",
    "    # Create spatial frequency coordinates\n",
    "    fx = torch.fft.fftfreq(nx, dx, device=U0.device)\n",
    "    fy = torch.fft.fftfreq(ny, dx, device=U0.device)\n",
    "    FX, FY = torch.meshgrid(fx, fy)  # Ensure FX and FY have last two dimensions\n",
    "    FX = FX.reshape(1,1, FX.shape[0], FX.shape[1])\n",
    "    FY = FY.reshape(1,1, FY.shape[0], FY.shape[1])\n",
    "\n",
    "    Delta_uy = 1 / (ny * dx)\n",
    "    Delta_ux = 1 / (nx * dx)\n",
    "    u_limity = 1 / (torch.sqrt((2 * Delta_uy * z) ** 2 + 1) * wvl)\n",
    "    u_limitx = 1 / (torch.sqrt((2 * Delta_ux * z) ** 2 + 1) * wvl)\n",
    "    H_limit = ((FY ** 2 / u_limity ** 2 + FX ** 2 * wvl ** 2) < 1) * ((FX ** 2 / u_limitx ** 2 + FY ** 2 * wvl ** 2) < 1)\n",
    "\n",
    "    # Kernel\n",
    "    H = torch.exp(1j * k * z * torch.sqrt(1 - (wvl * FX) ** 2 - (wvl * FY) ** 2))\n",
    "\n",
    "    # Propagate\n",
    "    U1_padded = torch.fft.fftshift(torch.fft.ifft2(torch.fft.fft2(torch.fft.ifftshift(U0_padded, dim=(-2, -1))) * H * H_limit), dim=(-2, -1))\n",
    "\n",
    "    # Extract to initial size\n",
    "    U1 = U1_padded[:, :, pad_height:pad_height + original_height, pad_width:pad_width + original_width]\n",
    "\n",
    "    return U1"
   ]
  },
  {
   "cell_type": "code",
   "execution_count": null,
   "id": "ec6fcc1f-6b16-4a78-b8ef-ef59036e72a2",
   "metadata": {},
   "outputs": [],
   "source": []
  },
  {
   "cell_type": "markdown",
   "id": "79a71ca6-437e-42f5-b263-01bd6ae46922",
   "metadata": {},
   "source": [
    "# GX_08\n",
    "\n",
    "\n",
    "## 1.\n",
    "You are given two target amplitudes. `torch.tensor(np.load(\"gs_target1.npy\")).to(device)` and `torch.tensor(np.load(\"gs_target2.npy\")).to(device)`.\n",
    "\n",
    "\n",
    "Find a phase distribution `phase` such that if `exp(1j * phase)` is propagted by `300µm` it produces the amplitude `target1`. And if propagated for another `300µm` it produces the amplitude `target2`.\n",
    "The wavelength is `633nm` and the pixel size `dx=1µm`.\n",
    "\n",
    "\n",
    "Use a modified version of the Gerchberg Saxton algorithm where you alternate between `target1` and `target2` amplitude constraint. So essentially a standard Gerchberg Saxton but you `initial plane -> target1 -> initial plane -> target2 -> initial plane`.\n",
    "\n",
    "The amplitude in the initial plane is just `1`. You are only allowed to modify the `phase`.\n",
    "\n",
    "## 2.\n",
    "Also plot the the mean squared error over the iterations for the comparison of the achieved amplitude and `target1` and `target 2` at each location.\n",
    "\n",
    "## 3.\n",
    "Also do the same with the SSIM."
   ]
  },
  {
   "cell_type": "code",
   "execution_count": null,
   "id": "df7ad5b8-babf-493c-b46f-30e7d3eebea1",
   "metadata": {},
   "outputs": [],
   "source": [
    "target1 = torch.tensor(np.load(\"gs_target1.npy\")).to(device)\n",
    "target1 = target1  / torch.sum(target1) * 350**2\n",
    "target2 = torch.tensor(np.load(\"gs_target2.npy\")).to(device)\n",
    "target2 = target2  / torch.sum(target2) * 350**2"
   ]
  },
  {
   "cell_type": "code",
   "execution_count": null,
   "id": "08b3a9da-7f26-4da3-a86d-310d7b67ba29",
   "metadata": {},
   "outputs": [],
   "source": []
  },
  {
   "cell_type": "code",
   "execution_count": null,
   "id": "48526ad7-e5a3-481f-8e73-ba9e639d5412",
   "metadata": {},
   "outputs": [],
   "source": []
  },
  {
   "cell_type": "code",
   "execution_count": null,
   "id": "6ecd3262-7b38-4ad4-95d0-675b8e2fada7",
   "metadata": {},
   "outputs": [],
   "source": []
  },
  {
   "cell_type": "code",
   "execution_count": null,
   "id": "9325fa43-07ad-4dda-a8cb-207a8e6dee2e",
   "metadata": {},
   "outputs": [],
   "source": []
  },
  {
   "cell_type": "code",
   "execution_count": null,
   "id": "aa724efc-5a5c-482b-9672-6aaac74bf95f",
   "metadata": {},
   "outputs": [],
   "source": []
  },
  {
   "cell_type": "code",
   "execution_count": null,
   "id": "cd9766cf-8414-4897-b8a9-00ac97080a9d",
   "metadata": {},
   "outputs": [],
   "source": []
  },
  {
   "cell_type": "code",
   "execution_count": null,
   "id": "69a6813c-1dfb-4dd3-8fe0-28f659534991",
   "metadata": {},
   "outputs": [],
   "source": []
  },
  {
   "cell_type": "code",
   "execution_count": null,
   "id": "b0a1518d-f7ff-47af-936c-ec5202b2d29f",
   "metadata": {},
   "outputs": [],
   "source": []
  },
  {
   "cell_type": "markdown",
   "id": "22f5da68-4404-4995-bbf2-8fae372b3dcb",
   "metadata": {},
   "source": [
    "## 2"
   ]
  },
  {
   "cell_type": "code",
   "execution_count": null,
   "id": "e1a51a35-cb58-4160-ba00-5d6bc8edeb6a",
   "metadata": {},
   "outputs": [],
   "source": []
  },
  {
   "cell_type": "code",
   "execution_count": null,
   "id": "a695f4e0-5732-4ed2-9cae-18da54983d69",
   "metadata": {},
   "outputs": [],
   "source": []
  },
  {
   "cell_type": "markdown",
   "id": "11fb3b22-51c4-40ec-bdee-f0e53fe57b42",
   "metadata": {},
   "source": [
    "# 3"
   ]
  },
  {
   "cell_type": "code",
   "execution_count": null,
   "id": "9df410c8-2716-4d91-a129-3599048023ae",
   "metadata": {},
   "outputs": [],
   "source": []
  },
  {
   "cell_type": "code",
   "execution_count": null,
   "id": "fb74d89e-509f-43ed-b353-79e1259efd36",
   "metadata": {},
   "outputs": [],
   "source": []
  },
  {
   "cell_type": "code",
   "execution_count": null,
   "id": "463902b7-2929-4059-863d-bf59339d9dc3",
   "metadata": {},
   "outputs": [],
   "source": []
  },
  {
   "cell_type": "code",
   "execution_count": null,
   "id": "816f0ee6-ad5f-484a-a456-8a8d98433d16",
   "metadata": {},
   "outputs": [],
   "source": []
  }
 ],
 "metadata": {
  "kernelspec": {
   "display_name": "Python 3 (ipykernel)",
   "language": "python",
   "name": "python3"
  },
  "language_info": {
   "codemirror_mode": {
    "name": "ipython",
    "version": 3
   },
   "file_extension": ".py",
   "mimetype": "text/x-python",
   "name": "python",
   "nbconvert_exporter": "python",
   "pygments_lexer": "ipython3",
   "version": "3.10.10"
  }
 },
 "nbformat": 4,
 "nbformat_minor": 5
}
