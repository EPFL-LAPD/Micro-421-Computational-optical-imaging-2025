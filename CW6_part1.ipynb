{
  "nbformat": 4,
  "nbformat_minor": 0,
  "metadata": {
    "colab": {
      "provenance": []
    },
    "kernelspec": {
      "name": "python3",
      "display_name": "Python 3"
    },
    "language_info": {
      "name": "python"
    }
  },
  "cells": [
    {
      "cell_type": "markdown",
      "source": [
        "#Coursework 06 - Part 1\n",
        "\n",
        "\n",
        "In this coursework you are expected to use Adaline network for classifying images of different digits. We will explore the effect of rotation on these images, when it is applied only on the test set and both on the training and test set.\n",
        "\n",
        "1- Train the adaline for a training set of unrotated images of 3's and 8's. Track and visualize the MSE over the epochs of the training. Then, for 10 different rotation steps between -90 to 90 degrees test the classification accuracy.\n",
        "\n",
        "2- Now for each given rotation angle, create mixed training and test sets of rotated and unrotated images. Report the accuracy for each angle.\n",
        "\n"
      ],
      "metadata": {
        "id": "6f-K7wgf4SUX"
      }
    },
    {
      "cell_type": "code",
      "execution_count": null,
      "metadata": {
        "id": "uPzDWF8D141V"
      },
      "outputs": [],
      "source": [
        "import tensorflow as tf\n",
        "import numpy as np\n",
        "import matplotlib.pyplot as plt\n",
        "from tensorflow import keras\n",
        "from scipy.ndimage import rotate\n",
        "\n",
        "# Utility: Calculate classification accuracy\n",
        "def accuracy(predictions, labels):\n",
        "    correct = ((predictions[:, 0] - labels) == 0).astype(float)\n",
        "    return np.sum(correct) / len(labels) * 100\n",
        "\n",
        "# Sigmoid activation with a small multiplier (to slow down gradient updates)\n",
        "def sigmoid(x):\n",
        "    return 1 / (1 + np.exp(-0.0001 * x))\n",
        "\n",
        "# Constants\n",
        "IMAGE_SIZE = 28\n",
        "INPUT_SIZE = IMAGE_SIZE * IMAGE_SIZE\n",
        "EPOCHS = 20\n",
        "TARGET_DIGITS = [3, 8]\n",
        "\n"
      ]
    },
    {
      "cell_type": "code",
      "source": [
        "# Load and preprocess MNIST data (optionally add rotated images)\n",
        "def load_data(rotation_angle=0, include_rotated_in_train=True):\n",
        "    (train_images, train_labels), (test_images, test_labels) = keras.datasets.mnist.load_data()\n",
        "\n",
        "    # Select only the target digits for training and testing\n",
        "    train_indices = np.where(np.isin(train_labels, TARGET_DIGITS))[0]\n",
        "    test_indices = np.where(np.isin(test_labels, TARGET_DIGITS))[0]\n",
        "\n",
        "    train_data = train_images[train_indices]\n",
        "    train_targets = (train_labels[train_indices] == TARGET_DIGITS[1]).astype(float)\n",
        "\n",
        "    test_data = test_images[test_indices]\n",
        "    test_targets = (test_labels[test_indices] == TARGET_DIGITS[1]).astype(float)\n",
        "\n",
        "    # Optionally add rotated versions of training and test data\n",
        "    if rotation_angle != 0 and include_rotated_in_train:\n",
        "        rotated_train = np.array([rotate(img, rotation_angle, reshape=False) for img in train_data])\n",
        "        rotated_train = rotated_train.reshape(len(rotated_train), -1) * 255.0\n",
        "        rotated_train = np.hstack((rotated_train, np.ones((len(rotated_train), 1))))\n",
        "        train_data_flat = train_data.reshape(len(train_data), -1)\n",
        "        train_data_flat = np.hstack((train_data_flat, np.ones((len(train_data), 1))))\n",
        "\n",
        "        train_data_combined = np.vstack((train_data_flat, rotated_train))\n",
        "        train_targets_combined = np.concatenate((train_targets, train_targets))\n",
        "    else:\n",
        "        train_data_combined = train_data.reshape(len(train_data), -1)\n",
        "        train_data_combined = np.hstack((train_data_combined, np.ones((len(train_data_combined), 1))))\n",
        "        train_targets_combined = train_targets\n",
        "\n",
        "    if rotation_angle != 0:\n",
        "        rotated_test = np.array([rotate(img, rotation_angle, reshape=False) for img in test_data])\n",
        "        rotated_test = rotated_test.reshape(len(rotated_test), -1) * 255.0\n",
        "        rotated_test = np.hstack((rotated_test, np.ones((len(rotated_test), 1))))\n",
        "        test_data_flat = test_data.reshape(len(test_data), -1)\n",
        "        test_data_flat = np.hstack((test_data_flat, np.ones((len(test_data_flat), 1))))\n",
        "\n",
        "        test_data_combined = np.vstack((test_data_flat, rotated_test))\n",
        "        test_targets_combined = np.concatenate((test_targets, test_targets))\n",
        "    else:\n",
        "        test_data_combined = test_data.reshape(len(test_data), -1)\n",
        "        test_data_combined = np.hstack((test_data_combined, np.ones((len(test_data_combined), 1))))\n",
        "        test_targets_combined = test_targets\n",
        "\n",
        "    return train_data_combined, train_targets_combined, test_data_combined, test_targets_combined\n",
        "\n",
        "# Visualize a training sample\n",
        "sample_train_data, _, _, _ = load_data(45, include_rotated_in_train=True)\n",
        "plt.imshow(sample_train_data[22000, :-1].reshape(28, 28))\n",
        "plt.colorbar()\n",
        "plt.title(\"Sample rotated image\")\n",
        "plt.show()"
      ],
      "metadata": {
        "id": "tr8b-_GI19b3"
      },
      "execution_count": null,
      "outputs": []
    },
    {
      "cell_type": "code",
      "source": [
        "# Run ADALINE with varying rotation angles (without augmented training set)\n",
        "\n",
        "# define the angle range\n",
        "\n",
        "accuracy_results = []\n",
        "trained = False\n",
        "for angle in angles:\n",
        "    train_x, train_y, test_x, test_y = load_data(rotation_angle=angle, include_rotated_in_train=False)\n",
        "\n",
        "    if not trained:\n",
        "      weights = np.random.rand(INPUT_SIZE + 1, 1)\n",
        "\n",
        "      for epoch in range(EPOCHS):\n",
        "          for i in range(len(train_x)):\n",
        "              output = sigmoid(np.dot(train_x[i], weights))\n",
        "              error = train_y[i] - output\n",
        "\n",
        "              # define the gradient HERE\n",
        "\n",
        "              weights += gradient.reshape(-1, 1) * error\n",
        "\n",
        "      trained = True\n",
        "\n",
        "    test_output = sigmoid(np.dot(test_x, weights))\n",
        "    predictions = (test_output > 0.5).astype(float)\n",
        "\n",
        "    acc_score = accuracy(predictions, test_y)\n",
        "    accuracy_results.append(acc_score)\n",
        "    print(f\"Test accuracy at {angle} degrees rotation: {acc_score:.2f}%\")\n",
        "\n",
        "plt.plot(angles, accuracy_results, '-o')\n",
        "plt.title(\"Without rotated images in training set\", fontsize=18)\n",
        "plt.xlabel(\"Rotation Angle (degrees)\", fontsize=14)\n",
        "plt.ylabel(\"Test Accuracy (%)\", fontsize=14)\n",
        "plt.grid(True)\n",
        "plt.show()\n"
      ],
      "metadata": {
        "id": "K2FMLCD82E2P"
      },
      "execution_count": null,
      "outputs": []
    }
  ]
}