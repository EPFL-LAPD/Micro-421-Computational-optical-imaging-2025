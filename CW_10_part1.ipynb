{
  "cells": [
    {
      "cell_type": "markdown",
      "metadata": {},
      "source": [
        "# CW 10 Part 1\n",
        "In this coursework, we aim to image a phase object after propagating for some distance in free space by using off-axis holography. \n",
        "\n",
        "You are given the code for loading an image, padding with zeroes and propagating for an arbitrary distance.\n",
        "\n",
        "Then, the next steps are to\n",
        "- interfere this field with an off-axis reference plane wave\n",
        "- record the intensity\n",
        "- extract incoming complex field by Fourier transforming and bringing the interference term to the center\n",
        "- and propagate back"
      ]
    },
    {
      "cell_type": "code",
      "execution_count": null,
      "metadata": {
        "colab": {
          "base_uri": "https://localhost:8080/",
          "height": 506
        },
        "id": "s7iWCbFk2mWq",
        "outputId": "7e54cd9d-29aa-4c4d-853e-88b69d9379b9"
      },
      "outputs": [],
      "source": [
        "import numpy as np\n",
        "import matplotlib.pyplot as plt\n",
        "from skimage import data\n",
        "from scipy.fft import fft2, ifft2, fftshift\n",
        "\n",
        "img = data.camera()\n",
        "\n",
        "img = np.pad(img, ((100, 100), (100, 100)), mode='constant')\n",
        "img = img / 255.0  # Normalize to [0, 1]\n",
        "ny, nx = img.shape\n",
        "dx = dy = 10e-6  # Pixel size (10 microns)\n",
        "\n",
        "phase = img * 2 * np.pi  # scale to [0, 2pi]\n",
        "field = np.exp(1j * phase)  # complex field with phase encoding\n",
        "\n",
        "def fresnel_propagate(u0, z, wavelength, dx):\n",
        "    k = 2 * np.pi / wavelength\n",
        "    ny, nx = u0.shape\n",
        "    fx = np.fft.fftfreq(nx, d=dx)\n",
        "    fy = np.fft.fftfreq(ny, d=dx)\n",
        "    FX, FY = np.meshgrid(fx, fy)\n",
        "    H = np.exp(-1j * np.pi * wavelength * z * (FX**2 + FY**2))\n",
        "    U0 = fft2(u0)\n",
        "    Uz = ifft2(U0 * H)\n",
        "    return Uz\n",
        "\n",
        "wavelength = 633e-9  # 633 nm\n",
        "z = 0.03  # propagation distance in meters \n",
        "propagated_field = fresnel_propagate(field, z, wavelength, dx)\n",
        "\n",
        "# Generate off-axis plane wave\n",
        "\n",
        "\n",
        "x = (np.arange(nx) - nx // 2) * dx\n",
        "y = (np.arange(ny) - ny // 2) * dy\n",
        "X, Y = np.meshgrid(x, y)\n",
        "\n",
        "\n",
        "theta_x = 3 * np.pi / 180  # 3 degrees off-axis in x\n",
        "theta_y = 3 * np.pi / 180  # 3 degrees off-axis in y\n"
      ]
    }
  ],
  "metadata": {
    "colab": {
      "provenance": []
    },
    "kernelspec": {
      "display_name": "Python 3",
      "name": "python3"
    },
    "language_info": {
      "name": "python"
    }
  },
  "nbformat": 4,
  "nbformat_minor": 0
}
