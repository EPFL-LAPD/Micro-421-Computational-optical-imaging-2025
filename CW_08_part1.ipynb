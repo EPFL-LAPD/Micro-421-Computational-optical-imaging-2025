{
 "cells": [
  {
   "cell_type": "code",
   "execution_count": 1,
   "id": "52edd30b-f47b-4916-a672-d25f260c8b07",
   "metadata": {},
   "outputs": [],
   "source": [
    "import numpy as np\n",
    "import matplotlib.pyplot as plt\n",
    "import torch\n",
    "import tqdm\n",
    "import numpy as np"
   ]
  },
  {
   "cell_type": "code",
   "execution_count": 2,
   "id": "30fe7df1-da9c-4918-b0b9-30604fc1e6dc",
   "metadata": {},
   "outputs": [
    {
     "name": "stdout",
     "output_type": "stream",
     "text": [
      "CUDA: True\n"
     ]
    },
    {
     "data": {
      "text/plain": [
       "device(type='cuda')"
      ]
     },
     "execution_count": 2,
     "metadata": {},
     "output_type": "execute_result"
    }
   ],
   "source": [
    "print(\"CUDA:\", torch.cuda.is_available())\n",
    "device = torch.device(\"cuda\" if torch.cuda.is_available() else \"cpu\")\n",
    "\n",
    "device"
   ]
  },
  {
   "cell_type": "code",
   "execution_count": 3,
   "id": "8500ac31-34c4-47b0-b24d-be094aa33165",
   "metadata": {},
   "outputs": [],
   "source": [
    "def angular_spectrum_propagation(U0, wvl, dx, z):\n",
    "    \"\"\"\n",
    "    Propagates an optical field using the Bandlimited Angular Spectrum Method over a range of distances.\n",
    "\n",
    "    Parameters:\n",
    "        U0      : 4D torch tensor (batch, channel, x, y)\n",
    "        wvl     : float (wavelength of light in meters)\n",
    "        dx      : float (sampling interval in meters)\n",
    "        z       : float (propagation distance in meters)\n",
    "\n",
    "    Returns:\n",
    "        U1  : the propagated field (same shape as U0)\n",
    "    \"\"\"\n",
    "    batch, channel, original_height, original_width = U0.shape\n",
    "    pad_height, pad_width = original_height // 2, original_width // 2\n",
    "\n",
    "    z = torch.tensor([z], device=U0.device)\n",
    "    # Pad input field\n",
    "    U0_padded = torch.zeros((batch, channel, original_height + 2 * pad_height, original_width + 2 * pad_width), dtype=U0.dtype, device=U0.device)\n",
    "    U0_padded[:, :, pad_height:pad_height + original_height, pad_width:pad_width + original_width] = U0\n",
    "\n",
    "    ny, nx = U0_padded.shape[-2:]\n",
    "    k = 2 * torch.pi / wvl\n",
    "\n",
    "    # Create spatial frequency coordinates\n",
    "    fx = torch.fft.fftfreq(nx, dx, device=U0.device)\n",
    "    fy = torch.fft.fftfreq(ny, dx, device=U0.device)\n",
    "    FX, FY = torch.meshgrid(fx, fy)  # Ensure FX and FY have last two dimensions\n",
    "    FX = FX.reshape(1,1, FX.shape[0], FX.shape[1])\n",
    "    FY = FY.reshape(1,1, FY.shape[0], FY.shape[1])\n",
    "\n",
    "    Delta_uy = 1 / (ny * dx)\n",
    "    Delta_ux = 1 / (nx * dx)\n",
    "    u_limity = 1 / (torch.sqrt((2 * Delta_uy * z) ** 2 + 1) * wvl)\n",
    "    u_limitx = 1 / (torch.sqrt((2 * Delta_ux * z) ** 2 + 1) * wvl)\n",
    "    H_limit = ((FY ** 2 / u_limity ** 2 + FX ** 2 * wvl ** 2) < 1) * ((FX ** 2 / u_limitx ** 2 + FY ** 2 * wvl ** 2) < 1)\n",
    "\n",
    "    # Kernel\n",
    "    H = torch.exp(1j * k * z * torch.sqrt(1 - (wvl * FX) ** 2 - (wvl * FY) ** 2))\n",
    "\n",
    "    # Propagate\n",
    "    U1_padded = torch.fft.fftshift(torch.fft.ifft2(torch.fft.fft2(torch.fft.ifftshift(U0_padded, dim=(-2, -1))) * H * H_limit), dim=(-2, -1))\n",
    "\n",
    "    # Extract to initial size\n",
    "    U1 = U1_padded[:, :, pad_height:pad_height + original_height, pad_width:pad_width + original_width]\n",
    "\n",
    "    return U1"
   ]
  },
  {
   "cell_type": "markdown",
   "id": "c999b952-ffb6-493f-b861-c55ce50f6bf7",
   "metadata": {},
   "source": [
    "# CW08 Part 1 \n",
    "\n",
    "## 1. \n",
    "You are given the intensity `torch.tensor(np.load(\"psaltis_face.npy\"), device=device)`.\n",
    "\n",
    "With the Gerchberg Saxton algorithm, find a phase which Fourier transformed produces the target intensity.\n",
    "\n",
    "## 2.\n",
    "Do the same with a near field propagation scheme.\n",
    "The wavelength is `633nm` and `dx=1µm`. The propagation distance between the two planes should be `1mm`."
   ]
  },
  {
   "cell_type": "markdown",
   "id": "3286a7fb-41cc-4558-9d2d-a2c74ac4531e",
   "metadata": {},
   "source": [
    "## 1"
   ]
  },
  {
   "cell_type": "code",
   "execution_count": 4,
   "id": "e041cb82-6caa-49e6-9d95-e721db04d068",
   "metadata": {},
   "outputs": [],
   "source": [
    "img = torch.tensor(np.load(\"psaltis_face.npy\"), device=device)"
   ]
  },
  {
   "cell_type": "code",
   "execution_count": null,
   "id": "879c28fc-0e51-4f8d-8cc9-b5bbcff687f6",
   "metadata": {},
   "outputs": [],
   "source": []
  },
  {
   "cell_type": "code",
   "execution_count": null,
   "id": "93187ccb-d5f7-46fe-b2c9-b45449f514c3",
   "metadata": {},
   "outputs": [],
   "source": []
  },
  {
   "cell_type": "code",
   "execution_count": null,
   "id": "dbaeb9b0-383b-45ac-83b0-691340109e4c",
   "metadata": {},
   "outputs": [],
   "source": []
  },
  {
   "cell_type": "code",
   "execution_count": null,
   "id": "9c1ee9c9-f510-4f0f-9d2b-38d3cbc549ed",
   "metadata": {},
   "outputs": [],
   "source": []
  },
  {
   "cell_type": "code",
   "execution_count": null,
   "id": "ff339c35-6f71-41ef-af99-5146497b0aab",
   "metadata": {},
   "outputs": [],
   "source": []
  },
  {
   "cell_type": "code",
   "execution_count": null,
   "id": "24051724-1f15-4f29-bb24-8b16fe733bfa",
   "metadata": {},
   "outputs": [],
   "source": []
  },
  {
   "cell_type": "markdown",
   "id": "74fbf5c5-301c-4bb8-b6db-61bb664dfc28",
   "metadata": {},
   "source": [
    "## 2"
   ]
  },
  {
   "cell_type": "code",
   "execution_count": null,
   "id": "97d0d440-c475-4e4a-b27b-b8a2189c186a",
   "metadata": {},
   "outputs": [],
   "source": []
  },
  {
   "cell_type": "code",
   "execution_count": null,
   "id": "c00e3359-cacd-4960-a7eb-392e38c4d8af",
   "metadata": {},
   "outputs": [],
   "source": []
  },
  {
   "cell_type": "code",
   "execution_count": null,
   "id": "dcf38ba8-1295-4013-a2e3-b01b9080fb5f",
   "metadata": {},
   "outputs": [],
   "source": []
  },
  {
   "cell_type": "code",
   "execution_count": null,
   "id": "b8d24b2f-f167-4b96-8967-b5e247091ed9",
   "metadata": {},
   "outputs": [],
   "source": []
  },
  {
   "cell_type": "code",
   "execution_count": null,
   "id": "1a590019-7250-48b7-b183-42dc676e946f",
   "metadata": {},
   "outputs": [],
   "source": []
  },
  {
   "cell_type": "code",
   "execution_count": null,
   "id": "dbdf7383-7e8a-4fbb-bebb-305b86074f2f",
   "metadata": {},
   "outputs": [],
   "source": []
  },
  {
   "cell_type": "code",
   "execution_count": null,
   "id": "73dfa2f5-9a78-4d7b-90f5-7fafd2a9fd3e",
   "metadata": {},
   "outputs": [],
   "source": []
  },
  {
   "cell_type": "code",
   "execution_count": null,
   "id": "3dfbc75e-0b26-4fc2-a1da-35e33c124991",
   "metadata": {},
   "outputs": [],
   "source": []
  }
 ],
 "metadata": {
  "kernelspec": {
   "display_name": "Python 3 (ipykernel)",
   "language": "python",
   "name": "python3"
  },
  "language_info": {
   "codemirror_mode": {
    "name": "ipython",
    "version": 3
   },
   "file_extension": ".py",
   "mimetype": "text/x-python",
   "name": "python",
   "nbconvert_exporter": "python",
   "pygments_lexer": "ipython3",
   "version": "3.13.2"
  }
 },
 "nbformat": 4,
 "nbformat_minor": 5
}
