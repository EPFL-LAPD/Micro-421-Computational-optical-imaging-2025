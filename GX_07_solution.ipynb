{
  "cells": [
    {
      "cell_type": "markdown",
      "metadata": {
        "id": "3knv4Ap5zPmT"
      },
      "source": [
        "# Graded Exercise 7\n",
        "\n",
        "Building on the given solution of CW7 part 1, we will explore and compare the effects of low frequency and high frequency features in image reconstruction.\n",
        "\n",
        "1- Implement a dataset with high pass filtered and original images from the dataset.\n",
        "\n",
        "2- Train the U-Net with different high frequency filtering width and report SSIM's compared to the original images. The goal is to find the width that provides a similar SSIM quality with low pass of cutoff_frequency=8. Compare the total number of frequency components (pixels in the Fourier domain) for low and high pass filtering cases with the similar SSIM score. Comment on which approach (high or low pass filtering) is more efficient and why.\n",
        "\n",
        "3- By using the given classifier network, check accuracies with full resolution, high pass filtered and U-Net output images from the validation set.\n"
      ]
    },
    {
      "cell_type": "code",
      "execution_count": 1,
      "metadata": {
        "id": "iMhWwgaCzPmU"
      },
      "outputs": [],
      "source": [
        "# !pip install piq"
      ]
    },
    {
      "cell_type": "code",
      "execution_count": 2,
      "metadata": {
        "id": "SM9dL1ByzPmV"
      },
      "outputs": [],
      "source": [
        "import torch\n",
        "import torch.nn as nn\n",
        "import torch.nn.functional as F\n",
        "from torch.utils.data import DataLoader, random_split, Dataset\n",
        "import torchvision.transforms as transforms\n",
        "import numpy as np\n",
        "\n",
        "import matplotlib.pyplot as plt\n",
        "import PIL\n",
        "from tqdm import tqdm\n",
        "from piq import SSIMLoss\n",
        "\n",
        "\n",
        "\n",
        "# Load the data\n",
        "f = np.load('celeba.npz')\n",
        "imgs = f['imgs'].swapaxes(0, 2)  # Assuming images are in [H, W, N] format"
      ]
    },
    {
      "cell_type": "code",
      "execution_count": 14,
      "metadata": {
        "id": "emU03f_yzPmV"
      },
      "outputs": [],
      "source": [
        "# Define LowPassFilter\n",
        "class LowPassFilter(object):\n",
        "    def __init__(self, cutoff_frequency):\n",
        "        self.cutoff_frequency = cutoff_frequency\n",
        "\n",
        "    def __call__(self, img):\n",
        "        if isinstance(img, PIL.Image.Image):\n",
        "            img = np.array(img)\n",
        "\n",
        "        if len(img.shape) == 3:\n",
        "            img = np.mean(img, axis=2)\n",
        "\n",
        "        f_img = np.fft.fftshift(np.fft.fft2(img))\n",
        "\n",
        "        rows, cols = img.shape\n",
        "        crow, ccol = rows // 2, cols // 2\n",
        "        mask = np.ones((rows, cols), np.uint8)\n",
        "        mask[crow-self.cutoff_frequency:crow+self.cutoff_frequency,\n",
        "             ccol-self.cutoff_frequency:ccol+self.cutoff_frequency] = 0\n",
        "\n",
        "        f_img_filtered = f_img * mask\n",
        "\n",
        "        img_back = np.abs(np.fft.ifft2(np.fft.ifftshift(f_img_filtered)))\n",
        "        img_back = (img_back - img_back.min()) / (img_back.max() - img_back.min())\n",
        "\n",
        "        return PIL.Image.fromarray((img_back * 255).astype(np.uint8))\n",
        "\n",
        "# Define transforms\n",
        "low_pass_transform = transforms.Compose([\n",
        "    transforms.ToPILImage(),\n",
        "    LowPassFilter(cutoff_frequency=2),\n",
        "    transforms.Resize((64, 64)),\n",
        "    transforms.ToTensor(),\n",
        "])\n",
        "\n",
        "original_transform = transforms.Compose([\n",
        "    transforms.ToPILImage(),\n",
        "    transforms.Resize((64, 64)),\n",
        "    transforms.Grayscale(),\n",
        "    transforms.ToTensor(),\n",
        "])\n",
        "\n",
        "# Custom Dataset\n",
        "class ImageDataset(Dataset):\n",
        "    def __init__(self, imgs,labels):\n",
        "        self.imgs = imgs\n",
        "        self.labels = labels\n",
        "\n",
        "    def __len__(self):\n",
        "        return self.imgs.shape[0]\n",
        "\n",
        "    def __getitem__(self, idx):\n",
        "        img = self.imgs[idx, :, :]\n",
        "        img_input = low_pass_transform(img)\n",
        "        img_target = original_transform(img)\n",
        "        return img_input, img_target, self.labels[idx]\n",
        "\n",
        "# Initialize dataset\n",
        "dataset = ImageDataset(imgs,f['labels'])\n",
        "train_size = int(0.8 * len(dataset))\n",
        "val_size = len(dataset) - train_size\n",
        "train_dataset, val_dataset = random_split(dataset, [train_size, val_size], generator=torch.Generator().manual_seed(42))\n",
        "\n",
        "train_loader = DataLoader(train_dataset, batch_size=32, shuffle=True)\n",
        "val_loader = DataLoader(val_dataset, batch_size=32)\n",
        "\n",
        "# UNet model\n",
        "class UNet(nn.Module):\n",
        "    def __init__(self):\n",
        "        super(UNet, self).__init__()\n",
        "        # Encoder\n",
        "        self.enc1 = nn.Conv2d(1, 64, 3, padding=1)\n",
        "        self.enc2 = nn.Conv2d(64, 128, 3, padding=1)\n",
        "        self.enc3 = nn.Conv2d(128, 256, 3, padding=1)\n",
        "        self.pool = nn.MaxPool2d(2)\n",
        "\n",
        "        # Decoder\n",
        "        self.up1 = nn.ConvTranspose2d(256, 128, 2, stride=2)\n",
        "        self.dec1 = nn.Conv2d(256, 128, 3, padding=1)\n",
        "        self.up2 = nn.ConvTranspose2d(128, 64, 2, stride=2)\n",
        "        self.dec2 = nn.Conv2d(128, 64, 3, padding=1)\n",
        "        self.final = nn.Conv2d(64, 1, 1)\n",
        "\n",
        "    def forward(self, x):\n",
        "        e1 = F.relu(self.enc1(x))\n",
        "        e2 = F.relu(self.enc2(self.pool(e1)))\n",
        "        e3 = F.relu(self.enc3(self.pool(e2)))\n",
        "\n",
        "        d1 = F.relu(self.up1(e3))\n",
        "        d1 = torch.cat([d1, e2], dim=1)\n",
        "        d1 = F.relu(self.dec1(d1))\n",
        "\n",
        "        d2 = F.relu(self.up2(d1))\n",
        "        d2 = torch.cat([d2, e1], dim=1)\n",
        "        d2 = F.relu(self.dec2(d2))\n",
        "\n",
        "        return F.sigmoid(self.final(d2))\n",
        "\n",
        "# Training setup\n",
        "device = torch.device('cuda' if torch.cuda.is_available() else 'cpu')\n",
        "model = UNet().to(device)\n",
        "\n"
      ]
    },
    {
      "cell_type": "code",
      "execution_count": 15,
      "metadata": {
        "colab": {
          "base_uri": "https://localhost:8080/"
        },
        "id": "7tzTo8NkzPmV",
        "outputId": "68b8aded-6a30-4df6-fd7b-ea4ca4c2bb95"
      },
      "outputs": [
        {
          "output_type": "stream",
          "name": "stderr",
          "text": [
            " 10%|█         | 1/10 [00:06<01:01,  6.87s/it]"
          ]
        },
        {
          "output_type": "stream",
          "name": "stdout",
          "text": [
            "Epoch [1/10], Train Loss: 0.741192, Val Loss: 0.703230\n"
          ]
        },
        {
          "output_type": "stream",
          "name": "stderr",
          "text": [
            "\r 20%|██        | 2/10 [00:13<00:53,  6.70s/it]"
          ]
        },
        {
          "output_type": "stream",
          "name": "stdout",
          "text": [
            "Epoch [2/10], Train Loss: 0.671564, Val Loss: 0.663772\n"
          ]
        },
        {
          "output_type": "stream",
          "name": "stderr",
          "text": [
            "\r 30%|███       | 3/10 [00:19<00:46,  6.57s/it]"
          ]
        },
        {
          "output_type": "stream",
          "name": "stdout",
          "text": [
            "Epoch [3/10], Train Loss: 0.621761, Val Loss: 0.607935\n"
          ]
        },
        {
          "output_type": "stream",
          "name": "stderr",
          "text": [
            "\r 40%|████      | 4/10 [00:26<00:39,  6.62s/it]"
          ]
        },
        {
          "output_type": "stream",
          "name": "stdout",
          "text": [
            "Epoch [4/10], Train Loss: 0.590383, Val Loss: 0.589678\n"
          ]
        },
        {
          "output_type": "stream",
          "name": "stderr",
          "text": [
            "\r 50%|█████     | 5/10 [00:32<00:32,  6.48s/it]"
          ]
        },
        {
          "output_type": "stream",
          "name": "stdout",
          "text": [
            "Epoch [5/10], Train Loss: 0.566816, Val Loss: 0.570649\n"
          ]
        },
        {
          "output_type": "stream",
          "name": "stderr",
          "text": [
            "\r 60%|██████    | 6/10 [00:39<00:26,  6.55s/it]"
          ]
        },
        {
          "output_type": "stream",
          "name": "stdout",
          "text": [
            "Epoch [6/10], Train Loss: 0.551172, Val Loss: 0.559058\n"
          ]
        },
        {
          "output_type": "stream",
          "name": "stderr",
          "text": [
            "\r 70%|███████   | 7/10 [00:45<00:19,  6.45s/it]"
          ]
        },
        {
          "output_type": "stream",
          "name": "stdout",
          "text": [
            "Epoch [7/10], Train Loss: 0.532383, Val Loss: 0.552320\n"
          ]
        },
        {
          "output_type": "stream",
          "name": "stderr",
          "text": [
            "\r 80%|████████  | 8/10 [00:52<00:13,  6.54s/it]"
          ]
        },
        {
          "output_type": "stream",
          "name": "stdout",
          "text": [
            "Epoch [8/10], Train Loss: 0.520689, Val Loss: 0.537493\n"
          ]
        },
        {
          "output_type": "stream",
          "name": "stderr",
          "text": [
            "\r 90%|█████████ | 9/10 [00:58<00:06,  6.42s/it]"
          ]
        },
        {
          "output_type": "stream",
          "name": "stdout",
          "text": [
            "Epoch [9/10], Train Loss: 0.507909, Val Loss: 0.527420\n"
          ]
        },
        {
          "output_type": "stream",
          "name": "stderr",
          "text": [
            "100%|██████████| 10/10 [01:05<00:00,  6.53s/it]"
          ]
        },
        {
          "output_type": "stream",
          "name": "stdout",
          "text": [
            "Epoch [10/10], Train Loss: 0.498576, Val Loss: 0.518939\n"
          ]
        },
        {
          "output_type": "stream",
          "name": "stderr",
          "text": [
            "\n"
          ]
        }
      ],
      "source": [
        "criterion = SSIMLoss(data_range = 1.0)\n",
        "\n",
        "optimizer = torch.optim.Adam(model.parameters(), lr=0.001)\n",
        "\n",
        "# Training loop\n",
        "num_epochs = 10\n",
        "for epoch in tqdm(range(num_epochs)):\n",
        "    model.train()\n",
        "    train_loss = 0\n",
        "    for img_in, img_out,label in train_loader:\n",
        "        img_in, img_out = img_in.to(device), img_out.to(device)\n",
        "\n",
        "        optimizer.zero_grad()\n",
        "        output = model(img_in)\n",
        "        loss = criterion(output, img_out)\n",
        "        loss.backward()\n",
        "        optimizer.step()\n",
        "\n",
        "        train_loss += loss.item()\n",
        "\n",
        "    model.eval()\n",
        "    val_loss = 0\n",
        "    with torch.no_grad():\n",
        "        for img_in, img_out,label in val_loader:\n",
        "            img_in, img_out = img_in.to(device), img_out.to(device)\n",
        "            output = model(img_in)\n",
        "            loss = criterion(output, img_out)\n",
        "            val_loss += loss.item()\n",
        "\n",
        "    print(f\"Epoch [{epoch+1}/{num_epochs}], \"\n",
        "          f\"Train Loss: {train_loss/len(train_loader):.6f}, \"\n",
        "          f\"Val Loss: {val_loss/len(val_loader):.6f}\")"
      ]
    },
    {
      "cell_type": "code",
      "execution_count": 16,
      "metadata": {
        "colab": {
          "base_uri": "https://localhost:8080/",
          "height": 528
        },
        "id": "9PvaU8nQzPmV",
        "outputId": "68085e76-48ea-4d8f-b8d9-98cd9dd1a47c"
      },
      "outputs": [
        {
          "output_type": "display_data",
          "data": {
            "text/plain": [
              "<Figure size 1500x500 with 3 Axes>"
            ],
            "image/png": "[encoded data removed]"
          },
          "metadata": {}
        }
      ],
      "source": [
        "# pick a random sample from validation dataset\n",
        "idx = 1  # You can change this to visualize different images\n",
        "\n",
        "# Get the low-pass filtered input image and ground truth from validation set\n",
        "lowpass_img_tensor, ground_truth_tensor, label= train_dataset[idx]\n",
        "\n",
        "# Move tensors to appropriate device (if GPU used in training)\n",
        "device = next(model.parameters()).device\n",
        "lowpass_img_tensor = lowpass_img_tensor.unsqueeze(0).to(device)\n",
        "\n",
        "# Predict the high-frequency restored image from the low-pass image\n",
        "with torch.no_grad():\n",
        "    predicted_tensor = model(lowpass_img_tensor)\n",
        "\n",
        "# Move predictions back to CPU and remove batch/channel dimensions\n",
        "lowpass_img = lowpass_img_tensor.cpu().squeeze().numpy()\n",
        "predicted_img = predicted_tensor.cpu().squeeze().numpy()\n",
        "ground_truth_img = ground_truth_tensor.squeeze().numpy()\n",
        "\n",
        "# Plot the images\n",
        "fig, axes = plt.subplots(1, 3, figsize=(15,5))\n",
        "\n",
        "axes[0].imshow(ground_truth_img, cmap='gray')\n",
        "axes[0].set_title(\"Ground Truth\")\n",
        "axes[0].axis('off')\n",
        "\n",
        "axes[1].imshow(lowpass_img, cmap='gray')\n",
        "axes[1].set_title(\"Low-pass Input\")\n",
        "axes[1].axis('off')\n",
        "\n",
        "axes[2].imshow(predicted_img, cmap='gray')\n",
        "axes[2].set_title(\"Predicted (UNet)\")\n",
        "axes[2].axis('off')\n",
        "\n",
        "plt.tight_layout()\n",
        "plt.show()\n"
      ]
    },
    {
      "cell_type": "code",
      "execution_count": 17,
      "metadata": {
        "colab": {
          "base_uri": "https://localhost:8080/"
        },
        "id": "oZRGBmMOzPmW",
        "outputId": "a41ac181-a691-4619-94a1-8f2afe10e8cf"
      },
      "outputs": [
        {
          "output_type": "stream",
          "name": "stdout",
          "text": [
            "Average SSIM between input and output images: 0.0538\n",
            "Average SSIM between input and pred images: 0.4811\n"
          ]
        }
      ],
      "source": [
        "ssim_loss = SSIMLoss(data_range=1.0)\n",
        "\n",
        "# Iterate through the dataset and calculate SSIM\n",
        "ssim_values = []\n",
        "ssim_values_pred = []\n",
        "\n",
        "for img_in, img_out,label in val_loader:\n",
        "    img_in, img_out = img_in.to(device), img_out.to(device)\n",
        "    with torch.no_grad():\n",
        "        img_pred = model(img_in)\n",
        "\n",
        "    ssim = 1 - ssim_loss(img_in, img_out)  # SSIM = 1 - SSIMLoss\n",
        "    ssim_pred = 1 - ssim_loss(img_out, img_pred)  # SSIM = 1 - SSIMLoss\n",
        "\n",
        "    ssim_values.append(ssim.item())\n",
        "    ssim_values_pred.append(ssim_pred.item())\n",
        "\n",
        "# Calculate the average SSIM\n",
        "average_ssim = sum(ssim_values) / len(ssim_values)\n",
        "print(f\"Average SSIM between input and output images: {average_ssim:.4f}\")\n",
        "\n",
        "average_ssim = sum(ssim_values_pred) / len(ssim_values_pred)\n",
        "print(f\"Average SSIM between input and pred images: {average_ssim:.4f}\")"
      ]
    },
    {
      "cell_type": "code",
      "execution_count": 7,
      "metadata": {
        "colab": {
          "base_uri": "https://localhost:8080/"
        },
        "id": "18dITACPzPmW",
        "outputId": "5cd0f53f-bb4c-45ab-8f8b-c06447fae2e1"
      },
      "outputs": [
        {
          "output_type": "execute_result",
          "data": {
            "text/plain": [
              "ClassificationNN(\n",
              "  (conv1): Conv2d(1, 32, kernel_size=(3, 3), stride=(1, 1), padding=(1, 1))\n",
              "  (conv2): Conv2d(32, 64, kernel_size=(3, 3), stride=(1, 1), padding=(1, 1))\n",
              "  (pool): MaxPool2d(kernel_size=2, stride=2, padding=0, dilation=1, ceil_mode=False)\n",
              "  (fc1): Linear(in_features=65536, out_features=128, bias=True)\n",
              "  (fc2): Linear(in_features=128, out_features=1, bias=True)\n",
              ")"
            ]
          },
          "metadata": {},
          "execution_count": 7
        }
      ],
      "source": [
        "# Classification network\n",
        "class ClassificationNN(nn.Module):\n",
        "    def __init__(self):\n",
        "        super(ClassificationNN, self).__init__()\n",
        "        self.conv1 = nn.Conv2d(1, 32, kernel_size=3, stride=1, padding=1)\n",
        "        self.conv2 = nn.Conv2d(32, 64, kernel_size=3, stride=1, padding=1)\n",
        "        self.pool = nn.MaxPool2d(2, 2)\n",
        "        self.fc1 = nn.Linear(64 * 32 * 32, 128)\n",
        "        self.fc2 = nn.Linear(128, 1)\n",
        "\n",
        "    def forward(self, x):\n",
        "        x = F.relu(self.conv1(x))\n",
        "        x = self.pool(F.relu(self.conv2(x)))\n",
        "        x = x.view(x.size(0), -1)\n",
        "        x = F.relu(self.fc1(x))\n",
        "        x = self.fc2(x)\n",
        "        return x  # raw logits\n",
        "\n",
        "classification_model = ClassificationNN().to(device)\n",
        "classification_model.load_state_dict(torch.load(\"classification_model.pth\"))\n",
        "classification_model.eval()"
      ]
    },
    {
      "cell_type": "code",
      "execution_count": 18,
      "metadata": {
        "colab": {
          "base_uri": "https://localhost:8080/"
        },
        "id": "U7XILTMzzPmW",
        "outputId": "451b7ad1-9a47-481a-b78c-c0d208e3a5dc"
      },
      "outputs": [
        {
          "output_type": "stream",
          "name": "stdout",
          "text": [
            "Accuracy on Input Images: 52.00%\n",
            "Accuracy on Output Images: 92.00%\n",
            "Accuracy on Predicted Images: 81.67%\n"
          ]
        }
      ],
      "source": [
        "correct_input = 0\n",
        "correct_output = 0\n",
        "correct_predicted = 0\n",
        "total = 0\n",
        "\n",
        "classification_model.eval()\n",
        "\n",
        "with torch.no_grad():\n",
        "    for img_in, img_out, label in val_loader:\n",
        "        img_in, img_out, label = img_in.to(device), img_out.to(device), label.to(device)\n",
        "\n",
        "        # Classification on input images\n",
        "        classification_output_input = classification_model(img_in)\n",
        "        predicted_input = (torch.sigmoid(classification_output_input) > 0.5).float()\n",
        "        correct_input += (predicted_input == label).sum().item()\n",
        "\n",
        "        # Classification on output images\n",
        "        classification_output_output = classification_model(img_out)\n",
        "        predicted_output = (torch.sigmoid(classification_output_output) > 0.5).float()\n",
        "        correct_output += (predicted_output == label).sum().item()\n",
        "\n",
        "        # Classification on predicted images\n",
        "        predicted_images = model(img_in)\n",
        "        classification_output_predicted = classification_model(predicted_images)\n",
        "        predicted_predicted = (torch.sigmoid(classification_output_predicted) > 0.5).float()\n",
        "        correct_predicted += (predicted_predicted == label).sum().item()\n",
        "\n",
        "        total += label.size(0)\n",
        "\n",
        "accuracy_input = 100 * correct_input / total\n",
        "accuracy_output = 100 * correct_output / total\n",
        "accuracy_predicted = 100 * correct_predicted / total\n",
        "\n",
        "print(f\"Accuracy on Input Images: {accuracy_input:.2f}%\")\n",
        "print(f\"Accuracy on Output Images: {accuracy_output:.2f}%\")\n",
        "print(f\"Accuracy on Predicted Images: {accuracy_predicted:.2f}%\")"
      ]
    },
    {
      "cell_type": "code",
      "source": [],
      "metadata": {
        "id": "aPU8c8v23AeN"
      },
      "execution_count": null,
      "outputs": []
    }
  ],
  "metadata": {
    "kernelspec": {
      "display_name": "Python 3",
      "name": "python3"
    },
    "language_info": {
      "codemirror_mode": {
        "name": "ipython",
        "version": 3
      },
      "file_extension": ".py",
      "mimetype": "text/x-python",
      "name": "python",
      "nbconvert_exporter": "python",
      "pygments_lexer": "ipython3",
      "version": "3.10.16"
    },
    "colab": {
      "provenance": [],
      "gpuType": "T4"
    },
    "accelerator": "GPU"
  },
  "nbformat": 4,
  "nbformat_minor": 0
}