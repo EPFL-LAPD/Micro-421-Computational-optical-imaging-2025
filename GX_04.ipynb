{
 "cells": [
  {
   "cell_type": "markdown",
   "id": "001baf0b-2830-4653-bc41-c1f1e15a919c",
   "metadata": {},
   "source": [
    "# GX 04"
   ]
  },
  {
   "cell_type": "code",
   "execution_count": 1,
   "id": "cc9a442f-c494-4e32-8ece-df8dd35c645c",
   "metadata": {},
   "outputs": [],
   "source": [
    "import numpy as np\n",
    "import matplotlib.pyplot as plt"
   ]
  },
  {
   "cell_type": "code",
   "execution_count": 2,
   "id": "28142bf8-5c38-49b8-aa11-dcdf439329e1",
   "metadata": {},
   "outputs": [],
   "source": [
    "def angular_spectrum_propagation_free_space(U0, wvl, dx, z):\n",
    "    \"\"\"\n",
    "    Propagates an optical field using the Bandlimited Angular Spectrum Method over a range of distances.\n",
    "\n",
    "    Parameters:\n",
    "        U0      : 2D numpy array (input wavefield)\n",
    "        wvl     : float (wavelength of light in meters)\n",
    "        d_range : list or numpy array (range of propagation distances in meters)\n",
    "        dx      : float (sampling interval in meters)\n",
    "\n",
    "    Returns:\n",
    "        U1  : the propagated field\n",
    "\n",
    "    Implemented according to: \n",
    "    Matsushima, Kyoji, and Tomoyoshi Shimobaba. \n",
    "    \"Band-limited angular spectrum method for numerical simulation of free-space propagation in far and near fields.\" \n",
    "    Optics express 17.22 (2009): 19662-19673.\n",
    "    \"\"\"\n",
    "\n",
    "    # Get the shape of the original array\n",
    "    original_height, original_width = U0.shape\n",
    "    pad_height, pad_width = original_height // 2, original_width // 2\n",
    "    # Create a new array filled with zeros with the target shape\n",
    "    U0_padded = np.zeros((original_height + 2 * pad_height, original_width + 2 * pad_width), dtype=U0.dtype)\n",
    "    # Place the original array in the center of the new array\n",
    "    U0_padded[pad_height:pad_height + original_height, pad_width:pad_width + original_width] = U0\n",
    "    \n",
    "    # Get array size\n",
    "    ny, nx = U0_padded.shape\n",
    "    # Wave number\n",
    "    k = 2 * np.pi / wvl \n",
    "\n",
    "    # Create spatial frequency coordinates\n",
    "    fx = np.fft.fftfreq(nx, dx)\n",
    "    fy = np.fft.fftfreq(ny, dx)\n",
    "    FX, FY = np.meshgrid(fx, fy)\n",
    "\n",
    "    Delta_uy =  1 / (ny * dx)\n",
    "    Delta_ux =  1 / (nx * dx)\n",
    "    u_limity = 1 / (np.sqrt((2 * Delta_uy * z)**2 + 1) * wvl)\n",
    "    u_limitx = 1 / (np.sqrt((2 * Delta_ux * z)**2 + 1) * wvl)\n",
    "    H_limit = W = ((FY**2 / u_limity**2 + FX**2 * wvl**2) < 1) * ((FX**2 / u_limitx**2 + FY**2 * wvl**2) < 1)\n",
    "    # Kernel\n",
    "    H = np.exp(1j * k * z * np.sqrt(0j + 1 - (wvl * FX) ** 2 - (wvl * FY) ** 2))\n",
    "\n",
    "    # propagate\n",
    "    U1_padded = np.fft.fftshift(np.fft.ifft2(np.fft.fft2(np.fft.ifftshift(U0_padded)) * H * H_limit))\n",
    "    # extract to initial size\n",
    "    U1 = U1_padded[pad_height:pad_height + original_height, pad_width:pad_width + original_width]\n",
    "          \n",
    "    return U1\n"
   ]
  },
  {
   "cell_type": "code",
   "execution_count": 3,
   "id": "b570f0d6-ef68-4bad-927b-66bdae797583",
   "metadata": {},
   "outputs": [],
   "source": [
    "def lens_propagate(U0, wvl, dx, focal_length):\n",
    "    \"\"\"\n",
    "    Propagates an optical field from one focal_length in front of the lens to one focal_length behind the lens\n",
    "    \n",
    "    Parameters:\n",
    "    U0      : 2D numpy array (input wavefield)\n",
    "    wvl     : float (wavelength of light in meters)\n",
    "    dx      :  float (sampling interval in meters)\n",
    "    focal_length : float (focal length of the lens)\n",
    "    \n",
    "    Returns:\n",
    "    U1  : the propagated field\n",
    "    \"\"\"\n",
    "    L_half_x = dx * U0.shape[1] / 2\n",
    "    L_half_y = dx * U0.shape[0] / 2\n",
    "\n",
    "    x = np.linspace(-L_half_x, L_half_x, U0.shape[1], endpoint=False)\n",
    "    y = np.linspace(-L_half_y, L_half_y, U0.shape[0], endpoint=False)\n",
    "\n",
    "    X, Y = np.meshgrid(x,y)\n",
    "\n",
    "    k = 2 * np.pi / wvl\n",
    "    lens = np.exp(-1j * k / 2 / focal_length * (X**2 + Y**2))\n",
    "    \n",
    "    prop = lambda U: angular_spectrum_propagation_free_space(U, wvl, dx, focal_length)\n",
    "\n",
    "    U_final = prop(lens * prop(U0))\n",
    "\n",
    "    return U_final"
   ]
  },
  {
   "cell_type": "markdown",
   "id": "cedfc357-0018-4098-9840-a645395f0f67",
   "metadata": {},
   "source": [
    "# 1\n",
    "Load the input image (`np.load(\"unknown_GX_04.npy\")`).\n",
    "The wavelength is `800nm` and the pixel size of the object is `2µm`. The focal length is `5mm`.\n",
    "\n",
    "\n",
    "## 1.1\n",
    "Build a Zernike Phase Shift Contrast microscope.\n",
    "The aperture has a radius of `500µm`. The phase shift aperture has a diameter of `6µm` and it is placed in the center of the large aperture and only shifts the phase. Try different phase shift values of `np.pi / 2, np.pi, - np.pi / 2, -np.pi / 4, ...`. Which one works best?\n",
    "\n",
    "## 1.2\n",
    "Also compare to the dark field microscope with the same aperture radii.\n",
    "\n",
    "## 1.3\n",
    "What is the advantage of the phase shift contrast microscope vs dark field (think about total intensity)."
   ]
  },
  {
   "cell_type": "code",
   "execution_count": 7,
   "id": "f2e149f5-1872-4d85-9ead-0570e7a2b54a",
   "metadata": {},
   "outputs": [
    {
     "data": {
      "text/plain": [
       "array([[1.+0.j, 1.+0.j, 1.+0.j, ..., 1.+0.j, 1.+0.j, 1.+0.j],\n",
       "       [1.+0.j, 1.+0.j, 1.+0.j, ..., 1.+0.j, 1.+0.j, 1.+0.j],\n",
       "       [1.+0.j, 1.+0.j, 1.+0.j, ..., 1.+0.j, 1.+0.j, 1.+0.j],\n",
       "       ...,\n",
       "       [1.+0.j, 1.+0.j, 1.+0.j, ..., 1.+0.j, 1.+0.j, 1.+0.j],\n",
       "       [1.+0.j, 1.+0.j, 1.+0.j, ..., 1.+0.j, 1.+0.j, 1.+0.j],\n",
       "       [1.+0.j, 1.+0.j, 1.+0.j, ..., 1.+0.j, 1.+0.j, 1.+0.j]],\n",
       "      shape=(600, 600))"
      ]
     },
     "execution_count": 7,
     "metadata": {},
     "output_type": "execute_result"
    }
   ],
   "source": [
    "np.load(\"unknown_GX_04.npy\")"
   ]
  },
  {
   "cell_type": "code",
   "execution_count": null,
   "id": "d04aa079-c5d6-439b-842b-fe1480f10dbe",
   "metadata": {},
   "outputs": [],
   "source": []
  },
  {
   "cell_type": "code",
   "execution_count": null,
   "id": "ecf47d7b-07f5-4094-9250-042772389d65",
   "metadata": {},
   "outputs": [],
   "source": []
  },
  {
   "cell_type": "code",
   "execution_count": null,
   "id": "579471c9-d9bf-4009-835a-92922acfc893",
   "metadata": {},
   "outputs": [],
   "source": []
  },
  {
   "cell_type": "code",
   "execution_count": null,
   "id": "69f3e869-769c-46aa-bd73-6e2e422f6ce0",
   "metadata": {},
   "outputs": [],
   "source": []
  },
  {
   "cell_type": "code",
   "execution_count": null,
   "id": "56c0874f-a26e-4b4e-bb02-25e0970d6dc2",
   "metadata": {},
   "outputs": [],
   "source": []
  },
  {
   "cell_type": "code",
   "execution_count": null,
   "id": "ca14e485-3ffb-45dd-b083-de16b6d3604e",
   "metadata": {},
   "outputs": [],
   "source": []
  },
  {
   "cell_type": "code",
   "execution_count": null,
   "id": "ff9687f1-9390-4abb-84a7-feadc4b2378f",
   "metadata": {},
   "outputs": [],
   "source": []
  },
  {
   "cell_type": "code",
   "execution_count": null,
   "id": "ec61ad20-fd41-4a1c-a225-34b5e1782383",
   "metadata": {},
   "outputs": [],
   "source": []
  },
  {
   "cell_type": "code",
   "execution_count": null,
   "id": "b657f91f-8769-4b48-858e-e915cff6dc11",
   "metadata": {},
   "outputs": [],
   "source": []
  },
  {
   "cell_type": "code",
   "execution_count": null,
   "id": "d4107d78-19ae-438b-a614-d0a0d38047c7",
   "metadata": {},
   "outputs": [],
   "source": []
  },
  {
   "cell_type": "code",
   "execution_count": null,
   "id": "f8929372-ea75-4b53-b8b3-68a90cef2b20",
   "metadata": {},
   "outputs": [],
   "source": []
  },
  {
   "cell_type": "code",
   "execution_count": null,
   "id": "e2872c55-aa45-4823-b0f7-23325cfea5a7",
   "metadata": {},
   "outputs": [],
   "source": []
  },
  {
   "cell_type": "code",
   "execution_count": null,
   "id": "2f74aaaf-43a8-4d19-9c6c-1e240fe9d801",
   "metadata": {},
   "outputs": [],
   "source": []
  }
 ],
 "metadata": {
  "kernelspec": {
   "display_name": "Python 3 (ipykernel)",
   "language": "python",
   "name": "python3"
  },
  "language_info": {
   "codemirror_mode": {
    "name": "ipython",
    "version": 3
   },
   "file_extension": ".py",
   "mimetype": "text/x-python",
   "name": "python",
   "nbconvert_exporter": "python",
   "pygments_lexer": "ipython3",
   "version": "3.13.2"
  }
 },
 "nbformat": 4,
 "nbformat_minor": 5
}
