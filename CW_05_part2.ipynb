{
 "cells": [
  {
   "cell_type": "code",
   "execution_count": 1,
   "id": "42d8ab66-925b-4c36-8231-2a3468ae2f1a",
   "metadata": {},
   "outputs": [],
   "source": [
    "import numpy as np\n",
    "import matplotlib.pyplot as plt"
   ]
  },
  {
   "cell_type": "code",
   "execution_count": 2,
   "id": "92e6dcde-f765-46ee-be4a-79b1fb835b56",
   "metadata": {},
   "outputs": [],
   "source": [
    "def angular_spectrum_propagation_free_space(U0, wvl, dx, z):\n",
    "    \"\"\"\n",
    "    Propagates an optical field using the Bandlimited Angular Spectrum Method over a range of distances.\n",
    "\n",
    "    Parameters:\n",
    "        U0      : 2D numpy array (input wavefield)\n",
    "        wvl     : float (wavelength of light in meters)\n",
    "        d_range : list or numpy array (range of propagation distances in meters)\n",
    "        dx      : float (sampling interval in meters)\n",
    "\n",
    "    Returns:\n",
    "        U1  : the propagated field\n",
    "\n",
    "    Implemented according to: \n",
    "    Matsushima, Kyoji, and Tomoyoshi Shimobaba. \n",
    "    \"Band-limited angular spectrum method for numerical simulation of free-space propagation in far and near fields.\" \n",
    "    Optics express 17.22 (2009): 19662-19673.\n",
    "    \"\"\"\n",
    "\n",
    "    # Get the shape of the original array\n",
    "    original_height, original_width = U0.shape\n",
    "    pad_height, pad_width = original_height // 2, original_width // 2\n",
    "    # Create a new array filled with zeros with the target shape\n",
    "    U0_padded = np.zeros((original_height + 2 * pad_height, original_width + 2 * pad_width), dtype=U0.dtype)\n",
    "    # Place the original array in the center of the new array\n",
    "    U0_padded[pad_height:pad_height + original_height, pad_width:pad_width + original_width] = U0\n",
    "    \n",
    "    # Get array size\n",
    "    ny, nx = U0_padded.shape\n",
    "    # Wave number\n",
    "    k = 2 * np.pi / wvl \n",
    "\n",
    "    # Create spatial frequency coordinates\n",
    "    fx = np.fft.fftfreq(nx, dx)\n",
    "    fy = np.fft.fftfreq(ny, dx)\n",
    "    FX, FY = np.meshgrid(fx, fy)\n",
    "\n",
    "    Delta_uy =  1 / (ny * dx)\n",
    "    Delta_ux =  1 / (nx * dx)\n",
    "    u_limity = 1 / (np.sqrt((2 * Delta_uy * z)**2 + 1) * wvl)\n",
    "    u_limitx = 1 / (np.sqrt((2 * Delta_ux * z)**2 + 1) * wvl)\n",
    "    H_limit = W = ((FY**2 / u_limity**2 + FX**2 * wvl**2) < 1) * ((FX**2 / u_limitx**2 + FY**2 * wvl**2) < 1)\n",
    "    # Kernel\n",
    "    H = np.exp(1j * k * z * np.sqrt(0j + 1 - (wvl * FX) ** 2 - (wvl * FY) ** 2))\n",
    "\n",
    "    # propagate\n",
    "    U1_padded = np.fft.fftshift(np.fft.ifft2(np.fft.fft2(np.fft.ifftshift(U0_padded)) * H * H_limit))\n",
    "    # extract to initial size\n",
    "    U1 = U1_padded[pad_height:pad_height + original_height, pad_width:pad_width + original_width]\n",
    "          \n",
    "    return U1\n"
   ]
  },
  {
   "cell_type": "markdown",
   "id": "9363b710-7c52-4825-b585-f785781b5bf8",
   "metadata": {},
   "source": [
    "# Coherent Propagation\n",
    "\n",
    "Propagate `U0` first a free space propagation of `z`. Then multiply with the aperture. Propagate another free flight propagation of distance `z`.\n",
    "What do you observe for the coherent propagation?\n",
    "Propagate for `z=40µm` and `z=400µm`."
   ]
  },
  {
   "cell_type": "code",
   "execution_count": 753,
   "id": "58345349-1f36-431f-b13f-465c11bdd882",
   "metadata": {},
   "outputs": [],
   "source": [
    "dx = 2e-6\n",
    "N = 70\n",
    "z = 40e-6\n",
    "wvl = 633e-9\n",
    "\n",
    "x = np.linspace(-N / 2 * dx, N / 2  * dx, N, endpoint=False)\n",
    "y = x\n",
    "X, Y = np.meshgrid(x,y)\n",
    "\n",
    "U0 = np.ones((N, N))\n",
    "aperture = ((np.abs(X-10e-6) < 3e-6) + (np.abs(X+10e-6) < 3e-6)) * (np.abs(Y) < 100e-6)"
   ]
  },
  {
   "cell_type": "code",
   "execution_count": null,
   "id": "8054fda8-a213-44cd-a198-ffc127555bd1",
   "metadata": {},
   "outputs": [],
   "source": []
  },
  {
   "cell_type": "code",
   "execution_count": null,
   "id": "c19a0695-7739-41dc-805f-e33ff7aca866",
   "metadata": {},
   "outputs": [],
   "source": []
  },
  {
   "cell_type": "code",
   "execution_count": null,
   "id": "96025280-db27-4cfe-b9be-bc66ad2d5ab2",
   "metadata": {},
   "outputs": [],
   "source": []
  },
  {
   "cell_type": "code",
   "execution_count": null,
   "id": "f30d3e67-2e9f-4ed6-8f36-be84b634c93c",
   "metadata": {},
   "outputs": [],
   "source": []
  },
  {
   "cell_type": "markdown",
   "id": "fb5e4773-f5c5-4a0c-a169-ff1e393da584",
   "metadata": {},
   "source": [
    "# Incoherent Propagation\n",
    "\n",
    "Simulate the same scenario now, however we want to simulate incoherent light. \n",
    "So what do you need to change? \n",
    "\n",
    "*Hint: A single coherent propagation is not enough, you need to add many intensities of simulations together (> 100)*."
   ]
  },
  {
   "cell_type": "code",
   "execution_count": null,
   "id": "b283cbc8-0c36-459f-abf3-a64d9e33e024",
   "metadata": {},
   "outputs": [],
   "source": []
  },
  {
   "cell_type": "code",
   "execution_count": null,
   "id": "566a9e43-1268-4317-ac64-e9aa3e169dc0",
   "metadata": {},
   "outputs": [],
   "source": []
  },
  {
   "cell_type": "code",
   "execution_count": null,
   "id": "c6416d10-a2b3-435a-9e3a-f1c73442b85b",
   "metadata": {},
   "outputs": [],
   "source": []
  },
  {
   "cell_type": "code",
   "execution_count": null,
   "id": "7455edc6-49db-4bcc-af08-505b821eb6c9",
   "metadata": {},
   "outputs": [],
   "source": []
  },
  {
   "cell_type": "code",
   "execution_count": null,
   "id": "db7df6ed-c94b-4e87-a8a2-683c2f166bbd",
   "metadata": {},
   "outputs": [],
   "source": []
  },
  {
   "cell_type": "code",
   "execution_count": null,
   "id": "0cb40d4a-4962-4448-9713-cd049ba419dd",
   "metadata": {},
   "outputs": [],
   "source": []
  }
 ],
 "metadata": {
  "kernelspec": {
   "display_name": "Python 3 (ipykernel)",
   "language": "python",
   "name": "python3"
  },
  "language_info": {
   "codemirror_mode": {
    "name": "ipython",
    "version": 3
   },
   "file_extension": ".py",
   "mimetype": "text/x-python",
   "name": "python",
   "nbconvert_exporter": "python",
   "pygments_lexer": "ipython3",
   "version": "3.13.2"
  }
 },
 "nbformat": 4,
 "nbformat_minor": 5
}
