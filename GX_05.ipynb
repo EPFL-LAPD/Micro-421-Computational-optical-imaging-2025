{
 "cells": [
  {
   "cell_type": "markdown",
   "id": "c7b26195-b795-4692-9375-4069ae9cfa32",
   "metadata": {},
   "source": [
    "# GX_05"
   ]
  },
  {
   "cell_type": "code",
   "execution_count": null,
   "id": "5f84b493-5744-4879-84e2-c03bd29ef405",
   "metadata": {},
   "outputs": [],
   "source": [
    "import numpy as np\n",
    "import matplotlib.pyplot as plt"
   ]
  },
  {
   "cell_type": "code",
   "execution_count": null,
   "id": "7c154aeb-799d-411a-8ce2-4ae77ca7ecc4",
   "metadata": {},
   "outputs": [],
   "source": [
    "def two_f_system(field):\n",
    "    \"\"\"\n",
    "        Takes an electrical field one focal length in front of the lens.\n",
    "        Returns the electrical field one focal length behind the lens.\n",
    "    \"\"\"\n",
    "    return np.fft.fftshift(np.fft.fft2(np.fft.ifftshift(field)))"
   ]
  },
  {
   "cell_type": "markdown",
   "id": "6edc2688-1305-439f-a8c8-586cd039af6c",
   "metadata": {},
   "source": [
    "# 1. Coherent vs Incoherent Imaging\n",
    "\n",
    "Use the function `two_f_system` to propagate the electrical field `target.npy` through one lens.\n",
    "In Fourier space multiply dark field aperture. \n",
    "The outer radius of the aperture is `20µm` and the inner radius is `3µm`.\n",
    "The wavelength is `633nm` and the size of the Siemens star field is `200µm`.\n",
    "The focal length is `631.9mm`\n",
    "\n",
    "\n",
    "## 1 Propagate coherently through the optical system.\n",
    "## 2 Propagate incoherently through the optical system.\n",
    "## 3 Explain the differences in the results.\n",
    "## 4 Why don't we need the focal length for the simulation? But why is it still important to know?\n",
    "Recall what a lens really does to the electrical field. Is it only a *Fourier transform*?"
   ]
  },
  {
   "cell_type": "code",
   "execution_count": null,
   "id": "5b5625e3-47de-4e05-a7c9-17f6aa112cc0",
   "metadata": {},
   "outputs": [],
   "source": [
    "target = np.load(\"usaf.npy\")"
   ]
  },
  {
   "cell_type": "code",
   "execution_count": null,
   "id": "cb2cc411-0a6f-4710-bd76-e169faa815cf",
   "metadata": {},
   "outputs": [],
   "source": [
    "plt.imshow(target)"
   ]
  },
  {
   "cell_type": "code",
   "execution_count": null,
   "id": "387f9bc6-440b-42ca-91a8-a8c515ec06d8",
   "metadata": {},
   "outputs": [],
   "source": []
  },
  {
   "cell_type": "code",
   "execution_count": null,
   "id": "41a67ebf-41bd-4242-a1b9-5bbbaf992456",
   "metadata": {},
   "outputs": [],
   "source": []
  },
  {
   "cell_type": "markdown",
   "id": "c915c90e-b47f-4402-87b3-95ab144b32ba",
   "metadata": {},
   "source": [
    "## 1"
   ]
  },
  {
   "cell_type": "code",
   "execution_count": null,
   "id": "37ce2194-57c5-49a5-9799-da472ac532c4",
   "metadata": {},
   "outputs": [],
   "source": []
  },
  {
   "cell_type": "code",
   "execution_count": null,
   "id": "82eaa991-a827-461c-a15f-1efd562cce94",
   "metadata": {},
   "outputs": [],
   "source": []
  },
  {
   "cell_type": "markdown",
   "id": "2fcc4270-2a71-4450-a423-50a809c4b7f7",
   "metadata": {},
   "source": [
    "# 2"
   ]
  },
  {
   "cell_type": "code",
   "execution_count": null,
   "id": "c7a93411-afa2-45f7-a36f-dd771b86227b",
   "metadata": {},
   "outputs": [],
   "source": []
  },
  {
   "cell_type": "code",
   "execution_count": null,
   "id": "3b4a1760-62d7-4f49-80cd-8a402d3f4df9",
   "metadata": {},
   "outputs": [],
   "source": []
  },
  {
   "cell_type": "code",
   "execution_count": null,
   "id": "fe19fe99-abfc-4d16-afd5-a198fa8e8ee7",
   "metadata": {},
   "outputs": [],
   "source": []
  },
  {
   "cell_type": "markdown",
   "id": "a5e0ad85-8e90-490d-b108-e60b9cf0c864",
   "metadata": {},
   "source": [
    "# 3\n"
   ]
  },
  {
   "cell_type": "code",
   "execution_count": null,
   "id": "f4fd8b60-f680-4c38-8c91-5e19fbaceeb5",
   "metadata": {},
   "outputs": [],
   "source": []
  },
  {
   "cell_type": "code",
   "execution_count": null,
   "id": "bec67634-a04c-40a8-bca4-f63026b27e28",
   "metadata": {},
   "outputs": [],
   "source": []
  },
  {
   "cell_type": "markdown",
   "id": "d27522c2-52a1-493e-8163-2b2e95c6fbe2",
   "metadata": {},
   "source": [
    "# 4\n",
    "\n"
   ]
  },
  {
   "cell_type": "code",
   "execution_count": null,
   "id": "57ac21a2-e126-42a5-9f0a-df3ecb8526bf",
   "metadata": {},
   "outputs": [],
   "source": []
  },
  {
   "cell_type": "code",
   "execution_count": null,
   "id": "2042723b-928f-469f-bdc0-eb9ae8c6bb3e",
   "metadata": {},
   "outputs": [],
   "source": []
  }
 ],
 "metadata": {
  "kernelspec": {
   "display_name": "Python 3 (ipykernel)",
   "language": "python",
   "name": "python3"
  },
  "language_info": {
   "codemirror_mode": {
    "name": "ipython",
    "version": 3
   },
   "file_extension": ".py",
   "mimetype": "text/x-python",
   "name": "python",
   "nbconvert_exporter": "python",
   "pygments_lexer": "ipython3",
   "version": "3.13.2"
  }
 },
 "nbformat": 4,
 "nbformat_minor": 5
}
