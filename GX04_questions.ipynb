{
 "cells": [
  {
   "attachments": {
    "image.png": {
     "image/png": "[encoded data removed]"
    }
   },
   "cell_type": "markdown",
   "id": "4fb33f93-c016-4ee8-8bfa-cda5ca3a726c",
   "metadata": {},
   "source": [
    "# Graded Exercise 4\n",
    "\n",
    "Graded index (GRIN) lenses focus light with their refractive index distribution.\n",
    "\n",
    "![image.png](attachment:image.png)\n",
    "\n",
    "Their refractive index can be defined as: $n(r)=n_{\\max }\\left(1-\\frac{\\alpha r^2}{2}\\right)$\n",
    "\n",
    "$n_{\\max }$ stands for the maximum refractive index, which is found on the center of the lens, $\\alpha$ controls the curvature of the refractive index profile.\n",
    "\n",
    "Accordingly, the focal length of the lens is $f=\\frac{1}{n_{\\max } \\alpha d}$.\n",
    "\n",
    "Using the provided initial code,\n",
    "\n",
    "a) Run BPM simulation for $n_{\\max } = 1.05$ and $\\alpha = 10^7$. Estimate focal length $f_L$ and FWHM at the focal plane. While varying the sampling z-step of the simulation (dz), track FWHM and $f_L$ values. Suggest an optimal dz for accurate prediction of lens properties while minimizing computational cost.\n",
    "\n",
    "b) Follow the same steps in (a) for $n_{\\max } = 1.05$ and $\\alpha = 3 \\times 10^7$. Compare the optimal dz with the one in (a). Explain physically and comment on the obtained outcome."
   ]
  },
  {
   "cell_type": "code",
   "execution_count": null,
   "id": "22481d65-bcf8-4444-bee2-25abd3f63a26",
   "metadata": {},
   "outputs": [],
   "source": [
    "import numpy as np\n",
    "import matplotlib.pyplot as plt"
   ]
  },
  {
   "cell_type": "code",
   "execution_count": null,
   "id": "ba500f70-43a2-495c-9db1-91d4c08053a5",
   "metadata": {},
   "outputs": [],
   "source": [
    "array_size = 200e-6  \n",
    "num_pixels = 512  # Resolution\n",
    "\n",
    "dx = array_size / num_pixels  # Pixel size\n",
    "\n",
    "wvl = 633e-9\n",
    "dz = 3e-6\n",
    "\n",
    "\n",
    "# Create spatial coordinate grid\n",
    "x = np.linspace(-array_size / 2, array_size / 2, num_pixels)\n",
    "y = np.linspace(-array_size / 2, array_size / 2, num_pixels)\n",
    "X, Y = np.meshgrid(x, y)"
   ]
  },
  {
   "cell_type": "code",
   "execution_count": null,
   "id": "9f868665",
   "metadata": {},
   "outputs": [],
   "source": [
    "n_max =1.1\n",
    "alpha =1e7\n",
    "rho = np.sqrt(X**2+Y**2)\n",
    "grin_dist = np.maximum(n_max*(1-alpha*rho**2/2)-1,0)\n",
    "plt.imshow(grin_dist,extent=[-array_size*1e6/2,array_size*1e6/2,-array_size*1e6/2,array_size*1e6/2]); plt.colorbar(); \n",
    "plt.title('Refractive index distribution')\n",
    "plt.xlabel('x [um]')\n",
    "plt.ylabel('y [um]')  \n",
    "plt.show()"
   ]
  },
  {
   "cell_type": "code",
   "execution_count": null,
   "id": "61a557df",
   "metadata": {},
   "outputs": [],
   "source": [
    "def angular_spectrum_propagation_range_grin(U0, wvl, dx, dz, num_steps, num_steps_grin, grin_dist, absorptive_boundary= False):\n",
    "    \"\"\"\n",
    "    Propagates an optical field using the Angular Spectrum Method over a range of distances.\n",
    "\n",
    "    Parameters:\n",
    "        U0      : 2D numpy array (input wavefield)\n",
    "        wvl     : float (wavelength of light in meters)\n",
    "        d_range : list or numpy array (range of propagation distances in meters)\n",
    "        dx      : float (sampling interval in meters)\n",
    "\n",
    "    Returns:\n",
    "        U_list  : list of 2D numpy arrays (propagated wavefields for each distance in d_range)\n",
    "    \"\"\"\n",
    "    \n",
    "    # Define refractive index\n",
    "    \n",
    "    # Get array size\n",
    "    ny, nx = U0.shape\n",
    "    k = 2 * np.pi / wvl  # Wave number\n",
    "\n",
    "    # Create spatial frequency coordinates\n",
    "    fx = np.fft.fftfreq(nx, dx)\n",
    "    fy = np.fft.fftfreq(ny, dx)\n",
    "    FX, FY = np.meshgrid(fx, fy)\n",
    "    \n",
    "    # Initialize list to store results\n",
    "    U_list = []\n",
    "    \n",
    "    # Apply super Gaussian absorptive boundary\n",
    "\n",
    "    if absorptive_boundary:\n",
    "        sigma = nx/3.5  # Standard deviation for Gaussian\n",
    "        X, Y = np.meshgrid(np.linspace(-nx/2, nx/2, nx), np.linspace(-ny/2, ny/2, ny))\n",
    "        window = np.exp(-((X**2 + Y**2) / (2 * sigma**2))**4)\n",
    "    else:\n",
    "        window = np.ones_like(U0)\n",
    "        \n",
    "    H = np.exp(1j * k * dz * np.sqrt(0j+ 1 - (wvl * FX) ** 2 - (wvl * FY) ** 2))\n",
    "\n",
    "    for _ in range(num_steps_grin):\n",
    "        \n",
    "        # FILL HERE - apply grin lens refractive index distribution\n",
    "                \n",
    "        # Inverse FFT to obtain propagated field\n",
    "        U0 = np.fft.ifft2(U_spectrum)\n",
    "        U0 *= window\n",
    "        U_list.append(U0)\n",
    "\n",
    "    for _ in range(num_steps-num_steps_grin):\n",
    "        \n",
    "        # Apply transfer function\n",
    "        U_spectrum = np.fft.fft2(U0) * H\n",
    "        \n",
    "        # Inverse FFT to obtain propagated field\n",
    "        U0 = np.fft.ifft2(U_spectrum)\n",
    "        U0 *= window\n",
    "        U_list.append(U0)        \n",
    "    return U_list\n"
   ]
  },
  {
   "cell_type": "code",
   "execution_count": null,
   "id": "1447ca3e",
   "metadata": {},
   "outputs": [],
   "source": [
    "prop_distance =\n",
    "prop_steps = np.round(prop_distance / dz).astype(int)\n",
    "\n",
    "prop_distance_grin = 0.18e-3\n",
    "prop_steps_grin = np.round(prop_distance_grin / dz).astype(int)\n",
    "\n",
    "U0 = np.ones_like(X)\n",
    "\n",
    "grating_zs = angular_spectrum_propagation_range_grin(U0, wvl, dx, dz, prop_steps, prop_steps_grin,grin_dist, True)\n",
    "array_3d = np.stack(grating_zs)\n"
   ]
  },
  {
   "cell_type": "code",
   "execution_count": null,
   "id": "3ff9099f-b5be-4148-a6ce-14196151548a",
   "metadata": {},
   "outputs": [],
   "source": [
    "# Display the grating\n",
    "plt.figure(figsize=(6, 6))\n",
    "\n",
    "plt.imshow(np.abs(array_3d[:, 256, :])**2, cmap=\"turbo\",aspect = 'auto',extent=[-array_size/2*1e6, array_size/2*1e6, prop_distance*1e6,0],alpha= 1.0)\n",
    "plt.colorbar(label=\"Amplitude\")\n",
    "grin_dist_1d = grin_dist[256, :]\n",
    "refractive_distribution = np.ones_like(np.abs(array_3d[:, 256, :]).squeeze())\n",
    "refractive_distribution[0:prop_steps_grin] = 1+grin_dist_1d[None,:]\n",
    "plt.imshow(np.flip(refractive_distribution,axis = 0), cmap=\"gray\",aspect = 'auto',extent=[-array_size/2*1e6, array_size/2*1e6, 0, prop_distance*1e6],alpha= 0.2)\n",
    "\n",
    "plt.xlabel(\"X (um)\")\n",
    "plt.ylabel(\"Z (um)\")\n",
    "plt.show()"
   ]
  },
  {
   "cell_type": "code",
   "execution_count": null,
   "id": "7eb2bfd7",
   "metadata": {},
   "outputs": [],
   "source": [
    "focal_distance = 1/(n_max*alpha*prop_distance_grin)*1e6+prop_distance_grin*1e6\n",
    "print(focal_distance)\n"
   ]
  }
 ],
 "metadata": {
  "kernelspec": {
   "display_name": "base",
   "language": "python",
   "name": "python3"
  },
  "language_info": {
   "codemirror_mode": {
    "name": "ipython",
    "version": 3
   },
   "file_extension": ".py",
   "mimetype": "text/x-python",
   "name": "python",
   "nbconvert_exporter": "python",
   "pygments_lexer": "ipython3",
   "version": "3.8.17"
  }
 },
 "nbformat": 4,
 "nbformat_minor": 5
}
