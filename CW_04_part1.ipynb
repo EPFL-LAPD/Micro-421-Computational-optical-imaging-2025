{
 "cells": [
  {
   "cell_type": "markdown",
   "id": "0a08c140-09ee-47b7-ae4e-82a8795c23e8",
   "metadata": {},
   "source": [
    "# CW 04 part 1"
   ]
  },
  {
   "cell_type": "code",
   "execution_count": null,
   "id": "0528c055-f804-49c7-8d71-4e3168ab2d33",
   "metadata": {},
   "outputs": [],
   "source": [
    "import numpy as np\n",
    "import matplotlib.pyplot as plt"
   ]
  },
  {
   "cell_type": "code",
   "execution_count": null,
   "id": "2a00178d-6d5d-4b6b-8bf9-184f92a67028",
   "metadata": {},
   "outputs": [],
   "source": [
    "def angular_spectrum_propagation_free_space(U0, wvl, dx, z):\n",
    "    \"\"\"\n",
    "    Propagates an optical field using the Bandlimited Angular Spectrum Method over a range of distances.\n",
    "\n",
    "    Parameters:\n",
    "        U0      : 2D numpy array (input wavefield)\n",
    "        wvl     : float (wavelength of light in meters)\n",
    "        d_range : list or numpy array (range of propagation distances in meters)\n",
    "        dx      : float (sampling interval in meters)\n",
    "\n",
    "    Returns:\n",
    "        U1  : the propagated field\n",
    "\n",
    "    Implemented according to: \n",
    "    Matsushima, Kyoji, and Tomoyoshi Shimobaba. \n",
    "    \"Band-limited angular spectrum method for numerical simulation of free-space propagation in far and near fields.\" \n",
    "    Optics express 17.22 (2009): 19662-19673.\n",
    "    \"\"\"\n",
    "\n",
    "    # Get the shape of the original array\n",
    "    original_height, original_width = U0.shape\n",
    "    pad_height, pad_width = original_height // 2, original_width // 2\n",
    "    # Create a new array filled with zeros with the target shape\n",
    "    U0_padded = np.zeros((original_height + 2 * pad_height, original_width + 2 * pad_width), dtype=U0.dtype)\n",
    "    # Place the original array in the center of the new array\n",
    "    U0_padded[pad_height:pad_height + original_height, pad_width:pad_width + original_width] = U0\n",
    "    \n",
    "    # Get array size\n",
    "    ny, nx = U0_padded.shape\n",
    "    # Wave number\n",
    "    k = 2 * np.pi / wvl \n",
    "\n",
    "    # Create spatial frequency coordinates\n",
    "    fx = np.fft.fftfreq(nx, dx)\n",
    "    fy = np.fft.fftfreq(ny, dx)\n",
    "    FX, FY = np.meshgrid(fx, fy)\n",
    "\n",
    "    Delta_uy =  1 / (ny * dx)\n",
    "    Delta_ux =  1 / (nx * dx)\n",
    "    u_limity = 1 / (np.sqrt((2 * Delta_uy * z)**2 + 1) * wvl)\n",
    "    u_limitx = 1 / (np.sqrt((2 * Delta_ux * z)**2 + 1) * wvl)\n",
    "    H_limit = W = ((FY**2 / u_limity**2 + FX**2 * wvl**2) < 1) * ((FX**2 / u_limitx**2 + FY**2 * wvl**2) < 1)\n",
    "    # Kernel\n",
    "    H = np.exp(1j * k * z * np.sqrt(0j + 1 - (wvl * FX) ** 2 - (wvl * FY) ** 2))\n",
    "\n",
    "    # propagate\n",
    "    U1_padded = np.fft.fftshift(np.fft.ifft2(np.fft.fft2(np.fft.ifftshift(U0_padded)) * H * H_limit))\n",
    "    # extract to initial size\n",
    "    U1 = U1_padded[pad_height:pad_height + original_height, pad_width:pad_width + original_width]\n",
    "          \n",
    "    return U1\n"
   ]
  },
  {
   "cell_type": "code",
   "execution_count": null,
   "id": "9d7bbfa7-492d-4d00-af80-60677a511e1f",
   "metadata": {},
   "outputs": [],
   "source": []
  },
  {
   "cell_type": "markdown",
   "id": "79c9b059-6cbb-43d8-8b34-f76d1a7e40a5",
   "metadata": {},
   "source": [
    "# Box Through lens\n",
    "\n",
    "\n",
    "1. Propagate a rectangular aperture with diameter `10µm`. Propagate it with `dx=1µm` and wavelength `633nm` over a distance `1mm` to a lens.\n",
    "The lens has a focal length of 1mm.  Model the lens as thin transparency. Use `N=500` for each dimension and a total array size of `500µm` in each dimension.\n",
    "Propagate after the lens for `1mm` further. What do you observe? Does this match your expectations? Plot the amplitude of the final field, not intensity.\n",
    "\n",
    "2. In class we discovered the same operation can be described with a Scaled Fourier Transform. Can you achieve the same result just with an FFT. What is difference to the solution obtained in part 1."
   ]
  },
  {
   "cell_type": "code",
   "execution_count": null,
   "id": "9c3500d3-05b0-4db2-87e5-6422a463a51e",
   "metadata": {},
   "outputs": [],
   "source": []
  },
  {
   "cell_type": "code",
   "execution_count": null,
   "id": "d76f9a6f-58a6-4438-b4d6-c33ddca926d6",
   "metadata": {},
   "outputs": [],
   "source": []
  },
  {
   "cell_type": "code",
   "execution_count": null,
   "id": "8439907f-130c-4d6b-8e0d-cba862367403",
   "metadata": {},
   "outputs": [],
   "source": []
  },
  {
   "cell_type": "code",
   "execution_count": null,
   "id": "83108410-f3f2-4a9c-8d1d-8a33d82267c0",
   "metadata": {},
   "outputs": [],
   "source": []
  },
  {
   "cell_type": "code",
   "execution_count": null,
   "id": "776a8498-8da4-4af7-85a9-ab8e8a8f18e2",
   "metadata": {},
   "outputs": [],
   "source": []
  },
  {
   "cell_type": "code",
   "execution_count": null,
   "id": "f25d5e6e-f496-4be7-8ec5-d5b14a081313",
   "metadata": {},
   "outputs": [],
   "source": []
  },
  {
   "cell_type": "code",
   "execution_count": null,
   "id": "5e36fdb2-2c8f-4cbb-93f4-147fa63d4283",
   "metadata": {},
   "outputs": [],
   "source": []
  },
  {
   "cell_type": "code",
   "execution_count": null,
   "id": "0d59f7e6-35b6-4091-86cd-8c231a04fa26",
   "metadata": {},
   "outputs": [],
   "source": []
  },
  {
   "cell_type": "code",
   "execution_count": null,
   "id": "58dd45fb-10b1-4d2d-91a8-f75a7a760410",
   "metadata": {},
   "outputs": [],
   "source": []
  },
  {
   "cell_type": "code",
   "execution_count": null,
   "id": "c8977605-01d1-4277-8222-3fe848b15fd7",
   "metadata": {},
   "outputs": [],
   "source": []
  },
  {
   "cell_type": "code",
   "execution_count": null,
   "id": "68a29a1f-bb90-4a43-a7fa-74a70bc676cc",
   "metadata": {},
   "outputs": [],
   "source": []
  },
  {
   "cell_type": "code",
   "execution_count": null,
   "id": "97268302-fc72-42fe-a5d4-02260cbd5ff9",
   "metadata": {},
   "outputs": [],
   "source": []
  }
 ],
 "metadata": {
  "kernelspec": {
   "display_name": "Python 3 (ipykernel)",
   "language": "python",
   "name": "python3"
  },
  "language_info": {
   "codemirror_mode": {
    "name": "ipython",
    "version": 3
   },
   "file_extension": ".py",
   "mimetype": "text/x-python",
   "name": "python",
   "nbconvert_exporter": "python",
   "pygments_lexer": "ipython3",
   "version": "3.13.2"
  }
 },
 "nbformat": 4,
 "nbformat_minor": 5
}
