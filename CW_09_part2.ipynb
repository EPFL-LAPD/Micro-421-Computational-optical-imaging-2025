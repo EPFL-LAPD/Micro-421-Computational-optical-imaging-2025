{
 "cells": [
  {
   "cell_type": "code",
   "execution_count": 15,
   "id": "79d75677-6c0d-4fbe-ae91-78c0192daaca",
   "metadata": {},
   "outputs": [
    {
     "name": "stdout",
     "output_type": "stream",
     "text": [
      "CUDA: False\n"
     ]
    },
    {
     "data": {
      "text/plain": [
       "device(type='cpu')"
      ]
     },
     "execution_count": 15,
     "metadata": {},
     "output_type": "execute_result"
    }
   ],
   "source": [
    "import numpy as np\n",
    "import matplotlib.pyplot as plt\n",
    "import torch\n",
    "import tqdm\n",
    "import numpy as np\n",
    "print(\"CUDA:\", torch.cuda.is_available())\n",
    "device = torch.device(\"cuda\" if torch.cuda.is_available() else \"cpu\")\n",
    "\n",
    "device"
   ]
  },
  {
   "cell_type": "markdown",
   "id": "1bc6d4bf-229e-44ae-909c-c259342c89fe",
   "metadata": {},
   "source": [
    "# CW_09_part2: Describing an Unknown Optical System\n",
    "\n",
    "In this task, you are provided with an **unknown optical system** that takes an input of shape `(32, 32)` and outputs a complex field of the same shape `(32, 32)`. The goal is to describe this system mathematically using a **matrix representation**: `Y = M * X`, where:\n",
    "\n",
    "- `X` is the input vectorized into a `(32*32,)` shape.\n",
    "- `Y` is the output vectorized into a `(32*32,)` shape.\n",
    "- `M` is the system matrix with shape `(32*32, 32*32)`.\n",
    "\n",
    "## Steps to Find the System Matrix `M`\n",
    "\n",
    "1. **Probe the Optical System**:\n",
    "   - Probe the system with different input vectors `X_i`. Each vector `X_i`has only one pixel turned on.\n",
    "   - Probe the system with all `32 * 32 = 1024` different `X_i`.\n",
    "2. **Construct Input and Output Matrices**:\n",
    "   - Flatten the output of `optical_system(X)`into a vector with shape `(32 * 32, )`.\n",
    "3. **Calculate the System Matrix `M`**:\n",
    "   - Put those outputs into the columns of the matrix `M` which has the shape `(32 * 32, 32 * 32)`.\n",
    "\n",
    "# Tasks\n",
    "1. Find the system matrix `M`.\n",
    "2. Apply the inverse of `M` to obtain the input which produced `CW_09_unknown.npy`."
   ]
  },
  {
   "cell_type": "code",
   "execution_count": 26,
   "id": "e3374e01-98f2-4893-b508-29e4555a24db",
   "metadata": {},
   "outputs": [
    {
     "data": {
      "text/plain": [
       "<matplotlib.image.AxesImage at 0x7ad9eecd6850>"
      ]
     },
     "execution_count": 26,
     "metadata": {},
     "output_type": "execute_result"
    },
    {
     "data": {
      "image/png": "[encoded data removed]",
      "text/plain": [
       "<Figure size 640x480 with 1 Axes>"
      ]
     },
     "metadata": {},
     "output_type": "display_data"
    }
   ],
   "source": [
    "diffuser = torch.tensor(np.load(\"CW_09_diffusor.npy\"))\n",
    "def optical_system(x):\n",
    "    ft = lambda x: torch.fft.fftshift(torch.fft.fft2(torch.fft.ifftshift(x)))\n",
    "\n",
    "    return ft(ft(x) * diffuser)\n",
    "\n",
    "\n",
    "unknown = torch.tensor(np.load(\"CW_09_unknown.npy\"))\n",
    "N = unknown.shape[0]\n",
    "plt.imshow(torch.abs(unknown)) "
   ]
  },
  {
   "cell_type": "code",
   "execution_count": null,
   "id": "d285bf8f-5a8a-4a44-93d5-4739257a9f85",
   "metadata": {},
   "outputs": [],
   "source": []
  },
  {
   "cell_type": "code",
   "execution_count": null,
   "id": "d6380b4c-0425-4cab-b52b-5ec0317ac97a",
   "metadata": {},
   "outputs": [],
   "source": []
  },
  {
   "cell_type": "code",
   "execution_count": null,
   "id": "91bcb038-d751-450f-8040-23f74c171e75",
   "metadata": {},
   "outputs": [],
   "source": []
  },
  {
   "cell_type": "code",
   "execution_count": null,
   "id": "aedbf867-a814-4132-8207-c81c46b30a57",
   "metadata": {},
   "outputs": [],
   "source": []
  },
  {
   "cell_type": "code",
   "execution_count": null,
   "id": "5aac0d61-59af-43d5-bd9a-7c45cb65ccc1",
   "metadata": {},
   "outputs": [],
   "source": []
  },
  {
   "cell_type": "code",
   "execution_count": null,
   "id": "362ecff9-0ebb-4c45-9c7c-de590e84d932",
   "metadata": {},
   "outputs": [],
   "source": []
  },
  {
   "cell_type": "markdown",
   "id": "f12185e0-c0bb-4d90-ba80-2a454d0f5992",
   "metadata": {},
   "source": [
    "# CW_09_part2: Describing an Unknown Optical System\n",
    "# This is another extra way\n",
    "\n",
    "In this task, you are provided with an **unknown optical system** that takes an input of shape `(32, 32)` and outputs a complex field of the same shape `(32, 32)`. The goal is to describe this system mathematically using a **matrix representation**: `Y = M * X`, where:\n",
    "\n",
    "- `X` is the input vectorized into a `(32*32,)` shape.\n",
    "- `Y` is the output vectorized into a `(32*32,)` shape.\n",
    "- `M` is the system matrix with shape `(32*32, 32*32)`.\n",
    "\n",
    "## Steps to Find the System Matrix `M`\n",
    "\n",
    "1. **Probe the Optical System**:\n",
    "   - Generate **random input phases** `X` of shape `(32, 32)`.\n",
    "   - Pass these inputs through the optical system to record the corresponding outputs `Y` of shape `(32, 32)`.\n",
    "\n",
    "2. **Construct Input and Output Matrices**:\n",
    "   - Flatten each input `X` and output `Y` into vectors of shape `(32*32,)`.\n",
    "   - Assemble these vectors into matrices:\n",
    "     - `X_matrix` has shape `(32*32, K)`, where `K` is the number of probe inputs.\n",
    "     - `Y_matrix` has shape `(32*32, K)`.\n",
    "\n",
    "3. **Calculate the System Matrix `M`**:\n",
    "   - Compute the **pseudoinverse** of `X_matrix` using `torch.pinverse(X_matrix, rcond=1e-2)`.\n",
    "   - Multiply the pseudoinverse of `X_matrix` with `Y_matrix` to obtain `M`:\n",
    "   - The resulting M will have the shape `(32*32, 32*32)`.\n",
    "\n",
    "\n",
    "\n",
    "# Tasks\n",
    "1. Find the system matrix `M`.\n",
    "2. How many probe inputs do you need? 10, 100, 1000, 10000, ...."
   ]
  },
  {
   "cell_type": "code",
   "execution_count": null,
   "id": "22b46826-d8c7-4c1c-bb28-e6e5abbd4a44",
   "metadata": {},
   "outputs": [],
   "source": []
  },
  {
   "cell_type": "code",
   "execution_count": null,
   "id": "7716742b-55bc-49cb-bf2f-830365a752c1",
   "metadata": {},
   "outputs": [],
   "source": []
  },
  {
   "cell_type": "code",
   "execution_count": null,
   "id": "c55a2767-1171-46d4-a647-f192beb72d40",
   "metadata": {},
   "outputs": [],
   "source": []
  },
  {
   "cell_type": "code",
   "execution_count": null,
   "id": "8c0e167c-1571-4077-9624-0c9fa9b14838",
   "metadata": {},
   "outputs": [],
   "source": []
  },
  {
   "cell_type": "code",
   "execution_count": null,
   "id": "2963a6ea-b3e5-4d1f-a30e-2c33c639dbe9",
   "metadata": {},
   "outputs": [],
   "source": []
  }
 ],
 "metadata": {
  "kernelspec": {
   "display_name": "Python 3 (ipykernel)",
   "language": "python",
   "name": "python3"
  },
  "language_info": {
   "codemirror_mode": {
    "name": "ipython",
    "version": 3
   },
   "file_extension": ".py",
   "mimetype": "text/x-python",
   "name": "python",
   "nbconvert_exporter": "python",
   "pygments_lexer": "ipython3",
   "version": "3.13.3"
  }
 },
 "nbformat": 4,
 "nbformat_minor": 5
}
