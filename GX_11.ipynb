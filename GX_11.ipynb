{
 "cells": [
  {
   "cell_type": "code",
   "execution_count": 1,
   "id": "b050bfee-4927-41ce-880f-6f45087d2568",
   "metadata": {},
   "outputs": [
    {
     "name": "stdout",
     "output_type": "stream",
     "text": [
      "CUDA: False\n"
     ]
    }
   ],
   "source": [
    "import numpy as np\n",
    "import matplotlib.pyplot as plt\n",
    "import torch\n",
    "import tqdm \n",
    "import numpy as np\n",
    "\n",
    "print(\"CUDA:\", torch.cuda.is_available())\n",
    "device = torch.device(\"cuda\" if torch.cuda.is_available() else \"cpu\")"
   ]
  },
  {
   "cell_type": "code",
   "execution_count": 138,
   "id": "4eb68b76-ca71-4dfb-ab20-368bafd3edab",
   "metadata": {},
   "outputs": [],
   "source": [
    "def fibre_propagation(U0, wvl, x, z, refractive_index):\n",
    "    nx = U0.shape[0]\n",
    "    k = 2 * torch.pi / wvl\n",
    "\n",
    "    dx = torch.abs(x[1] - x[0])\n",
    "    fx = torch.fft.fftfreq(nx, dx, device=U0.device)\n",
    "\n",
    "    U_out = torch.zeros(nx, z.shape[0], device=U0.device) + 0j\n",
    "    U_out[:, 0] = U0 \n",
    "\n",
    "    absorbing_window = torch.exp(-(x / (10e-6))**20)\n",
    "    dz = torch.abs(z[1] - z[0])\n",
    "    \n",
    "    H = torch.exp(1j * k * dz * torch.sqrt(1 + 0j - (wvl * fx) ** 2))\n",
    "    for i in range(1, z.shape[0]):\n",
    "        U_in = U_out[:, i - 1]\n",
    "        phase_shift = torch.exp(1j * k * dz * refractive_index[:, i - 1]) * absorbing_window\n",
    "        U1 = torch.fft.fftshift(torch.fft.ifft(torch.fft.fft(torch.fft.ifftshift(U_out[:, i - 1] * phase_shift)) * H))\n",
    "        U_out[:, i] = U1\n",
    "        \n",
    "\n",
    "    return U_out"
   ]
  },
  {
   "cell_type": "markdown",
   "id": "2e06d734-07d7-417e-8ebe-c3c724ac0696",
   "metadata": {},
   "source": [
    "# GX_11\n",
    "\n",
    "You are given a fibre with the parameters written below. \n",
    "Try to launch fundamental modes into the fibre. For simplicity, assume that the fundamental modes can be expressed as \n",
    "\n",
    "$$f_n(x) = \\begin{cases}\n",
    "\\cos\\left(\\frac{n\\pi x}{2r_{\\text{core}}}\\right) & \\text{if } -r_{\\text{core}} \\leq x \\leq r_{\\text{core}} \\\\\n",
    "0 & \\text{otherwise}\n",
    "\\end{cases}$$\n",
    "for $n \\in {1,3,5, ...}$ and\n",
    "$$f_n(x) = \\begin{cases}\n",
    "\\sin\\left(\\frac{n\\pi x}{2r_{\\text{core}}}\\right) & \\text{if } -r_{\\text{core}} \\leq x \\leq r_{\\text{core}} \\\\\n",
    "0 & \\text{otherwise}\n",
    "\\end{cases}$$\n",
    "for $n \\in {2,4,6, ...}$\n",
    "\n",
    "\n",
    "The $V$ number of the waveguide and the number of modes can be expressed as:\n",
    "$$V = \\frac{2\\pi}{\\lambda} \\cdot (2r_{\\text{core}}) \\cdot \\sqrt{n_{\\text{core}}^2 - n_{\\text{cladding}}^2}$$\n",
    "$$\\text{number\\_modes} = \\frac{V}{\\pi} + 0.5$$\n",
    "\n",
    "\n",
    "Tasks:\n",
    "- Calculate how many modes are supported.\n",
    "- Show numerically that only those modes propagate without significant losses.\n",
    "- Give some reasoning why higher order modes are not supported."
   ]
  },
  {
   "cell_type": "code",
   "execution_count": 6,
   "id": "8cb7ba96-66aa-45b4-b68f-a1c2b2d0a20e",
   "metadata": {},
   "outputs": [
    {
     "data": {
      "image/png": "[encoded data removed]",
      "text/plain": [
       "<Figure size 1000x1000 with 1 Axes>"
      ]
     },
     "metadata": {},
     "output_type": "display_data"
    }
   ],
   "source": [
    "N = 100\n",
    "Nz = 1000\n",
    "refractive_index = torch.zeros(N, Nz)\n",
    "wvl = 633e-9\n",
    "\n",
    "x = torch.linspace(-10e-6, 10e-6, refractive_index.shape[0])\n",
    "z = torch.linspace(0e-6, 1_000e-6, Nz)\n",
    "\n",
    "\n",
    "r_core = 2e-6\n",
    "n_core = 1.02\n",
    "n_cladding = 1.0\n",
    "\n",
    "\n",
    "refractive_index[:, :] = (n_core - n_cladding) * ((torch.abs(x) < r_core)).reshape(N, 1)\n",
    "# Plot with proper axis labels and equal aspect ratio\n",
    "plt.figure(figsize=(10, 10))\n",
    "im = plt.imshow(refractive_index.cpu().numpy(), \n",
    "                extent=[z[0], z[-1], x[-1], x[0]],  # [left, right, bottom, top]\n",
    "                aspect=10,\n",
    "                cmap='viridis')\n",
    "plt.xlabel(\"z (m)\")\n",
    "plt.ylabel(\"x (m)\")\n",
    "plt.tight_layout()\n",
    "plt.show()"
   ]
  },
  {
   "cell_type": "code",
   "execution_count": null,
   "id": "8a4bb5fb-e741-4e2f-a32e-e6b00c261360",
   "metadata": {},
   "outputs": [],
   "source": []
  }
 ],
 "metadata": {
  "kernelspec": {
   "display_name": "Python 3 (ipykernel)",
   "language": "python",
   "name": "python3"
  },
  "language_info": {
   "codemirror_mode": {
    "name": "ipython",
    "version": 3
   },
   "file_extension": ".py",
   "mimetype": "text/x-python",
   "name": "python",
   "nbconvert_exporter": "python",
   "pygments_lexer": "ipython3",
   "version": "3.13.3"
  }
 },
 "nbformat": 4,
 "nbformat_minor": 5
}
